{
 "cells": [
  {
   "cell_type": "markdown",
   "id": "jewish-jumping",
   "metadata": {},
   "source": [
    "# TCJA Permanency Act\n",
    "To run this notebook, you need the following:\n",
    "1. Fork the repository https://github.com/OpenSourceEcon/TCJAperm and clone it to your local machine.\n",
    "2. Navigate to the `/TCJAperm/` directory in your terminal and create the `tcjaperm-dev` conda environment by typing: `conda env create -f environment.yml`\n",
    "3. Open the `TCJA_perm_taxcalc.ipynb` notebook and set the kernel in the notebook to the `tcjaperm-dev` conda environment.\n",
    "4. Execute the cells in the `TCJA_perm_taxcalc.ipynb` notebook.\n",
    "    * You will need to adjust the file path to the `puf.csv` file in code cell 2 and the path to the `TCJA_perm.json` file in code cell 3.\n",
    "    * If you do not have the IRS Public Use File, then you will need to use the CPS file included with Tax-Calculator. That code is commented out in cell 2."
   ]
  },
  {
   "cell_type": "code",
   "execution_count": 1,
   "id": "composite-while",
   "metadata": {},
   "outputs": [],
   "source": [
    "import pandas as pd\n",
    "import numpy as np\n",
    "from bokeh.plotting import figure, show\n",
    "from bokeh.io import output_notebook\n",
    "import taxcalc as tc\n",
    "import matplotlib.pyplot as plt"
   ]
  },
  {
   "cell_type": "markdown",
   "id": "7ea54fd5",
   "metadata": {},
   "source": [
    "## 1. Create TCJA Permanency Reform"
   ]
  },
  {
   "cell_type": "markdown",
   "id": "93a87fd1",
   "metadata": {},
   "source": [
    "### 1.1. Get the overall cost estimate change"
   ]
  },
  {
   "cell_type": "markdown",
   "id": "3b3bb9b8",
   "metadata": {},
   "source": [
    "Create the baseline calculator object."
   ]
  },
  {
   "cell_type": "code",
   "execution_count": 2,
   "id": "surprising-democracy",
   "metadata": {},
   "outputs": [],
   "source": [
    "puf_path = (\n",
    "    \"/Users/richardevans/Docs/Economics/OSE/Tax-Calculator/taxcalc/puf.csv\"\n",
    ")\n",
    "recs = tc.Records(data=puf_path)"
   ]
  },
  {
   "cell_type": "code",
   "execution_count": null,
   "id": "c8b5c114",
   "metadata": {},
   "outputs": [],
   "source": [
    "# If you need to use the CPS data file included with Tax-Calculator, comment\n",
    "# out the previous lines in this cell and uncomment the following line.\n",
    "# recs = tc.Records.cps_constructor()\n",
    "pol_ref1 = tc.Policy()\n",
    "calc_base_ref1 = tc.Calculator(policy=pol_ref1, records=recs)\n",
    "CYR = 2024\n",
    "calc_base_ref1.advance_to_year(CYR)\n",
    "calc_base_ref1.calc_all()\n",
    "itax_rev_base_ref1 = calc_base_ref1.weighted_total('iitax')"
   ]
  },
  {
   "cell_type": "markdown",
   "id": "dc2b4553",
   "metadata": {},
   "source": [
    "Create the reform `json` object and corresponding calculator object."
   ]
  },
  {
   "cell_type": "code",
   "execution_count": null,
   "id": "7739e7d9",
   "metadata": {},
   "outputs": [],
   "source": [
    "reform_json_tcjaperm = {\n",
    "    \"ALD_AlimonyPaid_hc\": {\"2026\": 1.0},\n",
    "    \"ALD_AlimonyReceived_hc\": {\"2026\": 0.0},\n",
    "    \"ALD_DomesticProduction_hc\": {\"2026\": 1.0},\n",
    "    \"ALD_BusinessLosses_c\": {\"2026\": [270000.0, 540000.0, 270000.0, 270000.0, 540000.0]},\n",
    "    \"II_em\": {\"2026\": 0},\n",
    "    \"II_em_ps\": {\"2026\": [9e99, 9e99, 9e99, 9e99, 9e99]},\n",
    "    \"STD\": {\"2026\": [12950.0, 19400.0, 12950.0, 19400.0, 25900.0]},\n",
    "    \"ID_AllTaxes_c\": {\"2026\": [10000.0, 10000.0, 5000.0, 10000.0, 10000.0]},\n",
    "    \"ID_Charity_crt_all\": {\"2026\": 0.6},\n",
    "    \"ID_Casualty_hc\": {\"2026\": 1.0},\n",
    "    \"ID_Miscellaneous_hc\": {\"2026\": 1.0},\n",
    "    \"ID_ps\": {\"2026\": [9e99, 9e99, 9e99, 9e99, 9e99]},\n",
    "    \"ID_prt\": {\"2026\": 0.0},\n",
    "    \"ID_crt\": {\"2026\": 1.0},\n",
    "    \"II_rt2\": {\"2026\": 0.12},\n",
    "    \"II_rt3\": {\"2026\": 0.22},\n",
    "    \"II_rt4\": {\"2026\": 0.24},\n",
    "    \"II_rt5\": {\"2026\": 0.32},\n",
    "    \"II_rt7\": {\"2026\": 0.37},\n",
    "    \"II_brk1\": {\"2026\": [10275.0, 20550.0, 10275.0, 14650.0, 20550.0]},\n",
    "    \"II_brk2\": {\"2026\": [41775.0, 83550.0, 41775.0, 55900.0, 83550.0]},\n",
    "    \"II_brk3\": {\"2026\": [89075.0, 178150.0, 89075.0, 89050.0, 178150.0]},\n",
    "    \"II_brk4\": {\"2026\": [170050.0, 340100.0, 170050.0, 170050.0, 340100.0]},\n",
    "    \"II_brk5\": {\"2026\": [215950.0, 431900.0, 215950.0, 215950.0, 431900.0]},\n",
    "    \"II_brk6\": {\"2026\": [539900.0, 647850.0, 323925.0, 539900.0, 647850.0]},\n",
    "    \"PT_rt2\": {\"2026\": 0.12},\n",
    "    \"PT_rt3\": {\"2026\": 0.22},\n",
    "    \"PT_rt4\": {\"2026\": 0.24},\n",
    "    \"PT_rt5\": {\"2026\": 0.32},\n",
    "    \"PT_rt7\": {\"2026\": 0.37},\n",
    "    \"PT_brk1\": {\"2026\": [10275.0, 20550.0, 10275.0, 14650.0, 20550.0]},\n",
    "    \"PT_brk2\": {\"2026\": [41775.0, 83550.0, 41775.0, 55900.0, 83550.0]},\n",
    "    \"PT_brk3\": {\"2026\": [89075.0, 178150.0, 89075.0, 89050.0, 178150.0]},\n",
    "    \"PT_brk4\": {\"2026\": [170050.0, 340100.0, 170050.0, 170050.0, 340100.0]},\n",
    "    \"PT_brk5\": {\"2026\": [215950.0, 431900.0, 215950.0, 215950.0, 431900.0]},\n",
    "    \"PT_brk6\": {\"2026\": [539900.0, 647850.0, 323925.0, 539900.0, 647850.0]},\n",
    "    \"PT_qbid_rt\": {\"2026\": 0.2},\n",
    "    \"PT_qbid_taxinc_thd\": {\"2026\": [170050.0, 340100.0, 170050.0, 170050.0, 340100.0]},\n",
    "    \"PT_qbid_taxinc_gap\": {\"2026\": [50000.0, 100000.0, 50000.0, 50000.0, 100000.0]},\n",
    "    \"PT_qbid_w2_wages_rt\": {\"2026\": 0.5},\n",
    "    \"PT_qbid_alt_w2_wages_rt\": {\"2026\": 0.25},\n",
    "    \"PT_qbid_alt_property_rt\": {\"2026\": 0.025},\n",
    "    \"AMT_em\": {\"2026\": [75900.0, 118100.0, 59050.0, 75900.0, 118100.0]},\n",
    "    \"AMT_em_ps\": {\"2026\": [539900.0, 1079800.0, 539900.0, 539900.0, 1079800.0]},\n",
    "    \"AMT_em_pe\": {\"2026\": 776100.0},\n",
    "    \"CTC_c\": {\"2026\": 2000.0},\n",
    "    \"CTC_ps\": {\"2026\": [200000.0, 400000.0, 200000.0, 200000.0, 400000.0]},\n",
    "    \"ACTC_c\": {\"2026\": 1600.0},\n",
    "    \"ODC_c\": {\"2026\": 500.0},\n",
    "    \"ACTC_Income_thd\": {\"2026\": 2500.0}\n",
    "}"
   ]
  },
  {
   "cell_type": "code",
   "execution_count": null,
   "id": "cd7cb6a2",
   "metadata": {},
   "outputs": [],
   "source": [
    "# reform_json_path = (\n",
    "#     \"/Users/richardevans/Docs/Economics/OSE/TCJAperm/json/TCJA_perm.json\"\n",
    "# )\n",
    "# params_ref1 = pol_ref1.read_json_reform(reform_json_path)\n",
    "params_ref1 = pol_ref1.read_json_reform(reform_json_tcjaperm)\n",
    "pol_ref1.implement_reform(params_ref1)\n",
    "calc_ref_ref1 = tc.Calculator(policy=pol_ref1, records=recs)"
   ]
  },
  {
   "cell_type": "code",
   "execution_count": null,
   "id": "supposed-magnitude",
   "metadata": {},
   "outputs": [],
   "source": [
    "# Compute annual revenue for each year in a 10 year budget window\n",
    "# Do this for with and without the TCJA permanency reform\n",
    "rev_base_ref1 = {'IIT': {}}\n",
    "rev_ref_ref1 = {'IIT': {}}\n",
    "for t in range(2024, 2034):\n",
    "    calc_base_ref1.advance_to_year(t)\n",
    "    calc_base_ref1.calc_all()\n",
    "    calc_ref_ref1.advance_to_year(t)\n",
    "    calc_ref_ref1.calc_all()\n",
    "    rev_base_ref1['IIT'][t] = calc_base_ref1.weighted_total('iitax')\n",
    "    rev_ref_ref1['IIT'][t] = calc_ref_ref1.weighted_total('iitax')"
   ]
  },
  {
   "cell_type": "code",
   "execution_count": null,
   "id": "abroad-samba",
   "metadata": {},
   "outputs": [],
   "source": [
    "# make table of revenue estimates\n",
    "rev_base_ref1_df = pd.DataFrame.from_dict(rev_base_ref1).T\n",
    "rev_ref_ref1_df = pd.DataFrame.from_dict(rev_ref_ref1).T\n",
    "diff_ref1_df = (rev_ref_ref1_df - rev_base_ref1_df) * 1e-9  # in $ billions\n",
    "pd.options.display.float_format = '${:.3f}'.format\n",
    "diff_ref1_df['2024-2033'] = diff_ref1_df.sum(axis=1)\n",
    "# print(diff_ref1_df.to_latex())\n",
    "diff_ref1_df"
   ]
  },
  {
   "cell_type": "markdown",
   "id": "e3861b50",
   "metadata": {},
   "source": [
    "### 1.2. Get the section-specific decomposition of overall cost estimate change"
   ]
  },
  {
   "cell_type": "markdown",
   "id": "6dac0a35",
   "metadata": {},
   "source": [
    "Create baseline scenario."
   ]
  },
  {
   "cell_type": "code",
   "execution_count": null,
   "id": "6bad508e",
   "metadata": {},
   "outputs": [],
   "source": [
    "pol_ref1_dec = tc.Policy()\n",
    "calc_base_ref1_dec = tc.Calculator(policy=pol_ref1_dec, records=recs)\n",
    "CYR = 2024\n",
    "calc_base_ref1_dec.advance_to_year(CYR)\n",
    "calc_base_ref1_dec.calc_all()\n",
    "itax_rev_base_ref1_dec = calc_base_ref1_dec.weighted_total('iitax')"
   ]
  },
  {
   "cell_type": "markdown",
   "id": "107e06b3",
   "metadata": {},
   "source": [
    "Create a sequential analysis of the reform of each part of the TCJA permanency reform."
   ]
  },
  {
   "cell_type": "code",
   "execution_count": 3,
   "id": "ed0ed252",
   "metadata": {},
   "outputs": [],
   "source": [
    "sec_ref1_list = [\n",
    "    (\n",
    "        \"Sec 1: (II_rt*, II_brk*, PT_rt*, PT_brk*, PT_qbid*)\",\n",
    "        {\n",
    "            \"II_rt2\": {\"2026\": 0.12},\n",
    "            \"II_rt3\": {\"2026\": 0.22},\n",
    "            \"II_rt4\": {\"2026\": 0.24},\n",
    "            \"II_rt5\": {\"2026\": 0.32},\n",
    "            \"II_rt7\": {\"2026\": 0.37},\n",
    "            \"II_brk1\": {\"2026\": [10275.0, 20550.0, 10275.0, 14650.0, 20550.0]},\n",
    "            \"II_brk2\": {\"2026\": [41775.0, 83550.0, 41775.0, 55900.0, 83550.0]},\n",
    "            \"II_brk3\": {\"2026\": [89075.0, 178150.0, 89075.0, 89050.0, 178150.0]},\n",
    "            \"II_brk4\": {\"2026\": [170050.0, 340100.0, 170050.0, 170050.0, 340100.0]},\n",
    "            \"II_brk5\": {\"2026\": [215950.0, 431900.0, 215950.0, 215950.0, 431900.0]},\n",
    "            \"II_brk6\": {\"2026\": [539900.0, 647850.0, 323925.0, 539900.0, 647850.0]},\n",
    "            \"PT_rt2\": {\"2026\": 0.12},\n",
    "            \"PT_rt3\": {\"2026\": 0.22},\n",
    "            \"PT_rt4\": {\"2026\": 0.24},\n",
    "            \"PT_rt5\": {\"2026\": 0.32},\n",
    "            \"PT_rt7\": {\"2026\": 0.37},\n",
    "            \"PT_brk1\": {\"2026\": [10275.0, 20550.0, 10275.0, 14650.0, 20550.0]},\n",
    "            \"PT_brk2\": {\"2026\": [41775.0, 83550.0, 41775.0, 55900.0, 83550.0]},\n",
    "            \"PT_brk3\": {\"2026\": [89075.0, 178150.0, 89075.0, 89050.0, 178150.0]},\n",
    "            \"PT_brk4\": {\"2026\": [170050.0, 340100.0, 170050.0, 170050.0, 340100.0]},\n",
    "            \"PT_brk5\": {\"2026\": [215950.0, 431900.0, 215950.0, 215950.0, 431900.0]},\n",
    "            \"PT_brk6\": {\"2026\": [539900.0, 647850.0, 323925.0, 539900.0, 647850.0]},\n",
    "            \"PT_qbid_rt\": {\"2026\": 0.2},\n",
    "            \"PT_qbid_taxinc_thd\": {\"2026\": [170050.0, 340100.0, 170050.0, 170050.0, 340100.0]},\n",
    "            \"PT_qbid_taxinc_gap\": {\"2026\": [50000.0, 100000.0, 50000.0, 50000.0, 100000.0]},\n",
    "            \"PT_qbid_w2_wages_rt\": {\"2026\": 0.5},\n",
    "            \"PT_qbid_alt_w2_wages_rt\": {\"2026\": 0.25},\n",
    "            \"PT_qbid_alt_property_rt\": {\"2026\": 0.025}\n",
    "        }\n",
    "    ),\n",
    "    (\n",
    "        \"Sec 2: (STD, ID_*)\",\n",
    "        {\n",
    "            \"STD\": {\"2026\": [12950.0, 19400.0, 12950.0, 19400.0, 25900.0]},\n",
    "            \"ID_AllTaxes_c\": {\"2026\": [10000.0, 10000.0, 5000.0, 10000.0, 10000.0]},\n",
    "            \"ID_Charity_crt_all\": {\"2026\": 0.6},\n",
    "            \"ID_Casualty_hc\": {\"2026\": 1.0},\n",
    "            \"ID_Miscellaneous_hc\": {\"2026\": 1.0},\n",
    "            \"ID_ps\": {\"2026\": [9e99, 9e99, 9e99, 9e99, 9e99]},\n",
    "            \"ID_prt\": {\"2026\": 0.0},\n",
    "            \"ID_crt\": {\"2026\": 1.0},\n",
    "        }\n",
    "    ),\n",
    "    (\n",
    "        \"Sec 3: (CTC_*, ACTC_*, ODC_c)\",\n",
    "        {\n",
    "            \"CTC_c\": {\"2026\": 2000.0},\n",
    "            \"CTC_ps\": {\"2026\": [200000.0, 400000.0, 200000.0, 200000.0, 400000.0]},\n",
    "            \"ACTC_c\": {\"2026\": 1600.0},\n",
    "            \"ODC_c\": {\"2026\": 500.0},\n",
    "            \"ACTC_Income_thd\": {\"2026\": 2500.0}\n",
    "        }\n",
    "    ),\n",
    "    (\n",
    "        \"Sec 4: (AMT_*)\",\n",
    "        {\n",
    "            \"AMT_em\": {\"2026\": [75900.0, 118100.0, 59050.0, 75900.0, 118100.0]},\n",
    "            \"AMT_em_ps\": {\"2026\": [539900.0, 1079800.0, 539900.0, 539900.0, 1079800.0]},\n",
    "            \"AMT_em_pe\": {\"2026\": 776100.0},\n",
    "        }\n",
    "    ),\n",
    "    (\n",
    "        \"Sec 5: (II_em*)\",\n",
    "        {\n",
    "            \"II_em\": {\"2026\": 0},\n",
    "            \"II_em_ps\": {\"2026\": [9e99, 9e99, 9e99, 9e99, 9e99]}\n",
    "        }\n",
    "    ),\n",
    "    (\n",
    "        \"Sec 6: (ALD_*)\",\n",
    "        {\n",
    "            \"ALD_AlimonyPaid_hc\": {\"2026\": 1.0},\n",
    "            \"ALD_AlimonyReceived_hc\": {\"2026\": 0.0},\n",
    "            \"ALD_DomesticProduction_hc\": {\"2026\": 1.0}\n",
    "        }\n",
    "    )\n",
    "]"
   ]
  },
  {
   "cell_type": "markdown",
   "id": "5d76ec7a",
   "metadata": {},
   "source": [
    "Create the difference between the Sec 1 reform and the baseline"
   ]
  },
  {
   "cell_type": "code",
   "execution_count": null,
   "id": "cddf19a1",
   "metadata": {},
   "outputs": [],
   "source": [
    "params_ref1_sec1 = pol_ref1_dec.read_json_reform(sec_ref1_list[0][1])\n",
    "pol_ref1_dec.implement_reform(params_ref1_sec1)\n",
    "calc_ref_ref1_sec1 = tc.Calculator(policy=pol_ref1_dec, records=recs)"
   ]
  },
  {
   "cell_type": "code",
   "execution_count": null,
   "id": "59fbead3",
   "metadata": {},
   "outputs": [],
   "source": [
    "rev_base_ref1_sec1 = {'IIT': {}}\n",
    "rev_ref_ref1_sec1 = {'IIT': {}}\n",
    "for t in range(2024, 2034):\n",
    "    calc_base_ref1_dec.advance_to_year(t)\n",
    "    calc_base_ref1_dec.calc_all()\n",
    "    calc_ref_ref1_sec1.advance_to_year(t)\n",
    "    calc_ref_ref1_sec1.calc_all()\n",
    "    rev_base_ref1_sec1['IIT'][t] = calc_base_ref1_dec.weighted_total('iitax')\n",
    "    rev_ref_ref1_sec1['IIT'][t] = calc_ref_ref1_sec1.weighted_total('iitax')"
   ]
  },
  {
   "cell_type": "code",
   "execution_count": null,
   "id": "6794ecf7",
   "metadata": {},
   "outputs": [],
   "source": [
    "rev_base_ref1_sec1_df = pd.DataFrame.from_dict(rev_base_ref1_sec1).T\n",
    "rev_ref_ref1_sec1_df = pd.DataFrame.from_dict(rev_ref_ref1_sec1).T\n",
    "diff_ref1_sec1_df = (rev_ref_ref1_sec1_df - rev_base_ref1_sec1_df) * 1e-9  # in $ billions\n",
    "pd.options.display.float_format = '${:.3f}'.format\n",
    "diff_ref1_sec1_df['2024-2033'] = diff_ref1_sec1_df.sum(axis=1)\n",
    "# print(diff_ref1_sec1_df.to_latex())\n",
    "diff_ref1_sec1_df"
   ]
  },
  {
   "cell_type": "markdown",
   "id": "af47e1d0",
   "metadata": {},
   "source": [
    "## Write a loop that compares each section to the original baseline"
   ]
  },
  {
   "cell_type": "code",
   "execution_count": 7,
   "id": "e8519fe2",
   "metadata": {},
   "outputs": [
    {
     "name": "stdout",
     "output_type": "stream",
     "text": [
      "\n",
      "Simulating Sec 1: (II_rt*, II_brk*, PT_rt*, PT_brk*, PT_qbid*)\n",
      "      2024   2025      2026      2027      2028      2029      2030      2031  \\\n",
      "IIT $0.000 $0.000 $-143.121 $-149.832 $-156.407 $-162.981 $-169.666 $-176.234   \n",
      "\n",
      "         2032      2033  2024-2033  \n",
      "IIT $-181.282 $-189.343 $-1328.866  \n"
     ]
    },
    {
     "ename": "KeyError",
     "evalue": "'2024'",
     "output_type": "error",
     "traceback": [
      "\u001b[0;31m---------------------------------------------------------------------------\u001b[0m",
      "\u001b[0;31mKeyError\u001b[0m                                  Traceback (most recent call last)",
      "File \u001b[0;32m/opt/anaconda3/envs/tcjaperm-dev/lib/python3.11/site-packages/pandas/core/indexes/base.py:3805\u001b[0m, in \u001b[0;36mIndex.get_loc\u001b[0;34m(self, key)\u001b[0m\n\u001b[1;32m   3804\u001b[0m \u001b[38;5;28;01mtry\u001b[39;00m:\n\u001b[0;32m-> 3805\u001b[0m     \u001b[38;5;28;01mreturn\u001b[39;00m \u001b[38;5;28;43mself\u001b[39;49m\u001b[38;5;241;43m.\u001b[39;49m\u001b[43m_engine\u001b[49m\u001b[38;5;241;43m.\u001b[39;49m\u001b[43mget_loc\u001b[49m\u001b[43m(\u001b[49m\u001b[43mcasted_key\u001b[49m\u001b[43m)\u001b[49m\n\u001b[1;32m   3806\u001b[0m \u001b[38;5;28;01mexcept\u001b[39;00m \u001b[38;5;167;01mKeyError\u001b[39;00m \u001b[38;5;28;01mas\u001b[39;00m err:\n",
      "File \u001b[0;32mindex.pyx:167\u001b[0m, in \u001b[0;36mpandas._libs.index.IndexEngine.get_loc\u001b[0;34m()\u001b[0m\n",
      "File \u001b[0;32mindex.pyx:196\u001b[0m, in \u001b[0;36mpandas._libs.index.IndexEngine.get_loc\u001b[0;34m()\u001b[0m\n",
      "File \u001b[0;32mpandas/_libs/hashtable_class_helper.pxi:7081\u001b[0m, in \u001b[0;36mpandas._libs.hashtable.PyObjectHashTable.get_item\u001b[0;34m()\u001b[0m\n",
      "File \u001b[0;32mpandas/_libs/hashtable_class_helper.pxi:7089\u001b[0m, in \u001b[0;36mpandas._libs.hashtable.PyObjectHashTable.get_item\u001b[0;34m()\u001b[0m\n",
      "\u001b[0;31mKeyError\u001b[0m: '2024'",
      "\nThe above exception was the direct cause of the following exception:\n",
      "\u001b[0;31mKeyError\u001b[0m                                  Traceback (most recent call last)",
      "Cell \u001b[0;32mIn[7], line 44\u001b[0m\n\u001b[1;32m     39\u001b[0m     numeric_columns \u001b[38;5;241m=\u001b[39m [\n\u001b[1;32m     40\u001b[0m         \u001b[38;5;124m\"\u001b[39m\u001b[38;5;124m2024\u001b[39m\u001b[38;5;124m\"\u001b[39m, \u001b[38;5;124m\"\u001b[39m\u001b[38;5;124m2025\u001b[39m\u001b[38;5;124m\"\u001b[39m, \u001b[38;5;124m\"\u001b[39m\u001b[38;5;124m2026\u001b[39m\u001b[38;5;124m\"\u001b[39m, \u001b[38;5;124m\"\u001b[39m\u001b[38;5;124m2027\u001b[39m\u001b[38;5;124m\"\u001b[39m, \u001b[38;5;124m\"\u001b[39m\u001b[38;5;124m2028\u001b[39m\u001b[38;5;124m\"\u001b[39m, \u001b[38;5;124m\"\u001b[39m\u001b[38;5;124m2029\u001b[39m\u001b[38;5;124m\"\u001b[39m, \u001b[38;5;124m\"\u001b[39m\u001b[38;5;124m2030\u001b[39m\u001b[38;5;124m\"\u001b[39m, \u001b[38;5;124m\"\u001b[39m\u001b[38;5;124m2031\u001b[39m\u001b[38;5;124m\"\u001b[39m, \u001b[38;5;124m\"\u001b[39m\u001b[38;5;124m2032\u001b[39m\u001b[38;5;124m\"\u001b[39m,\n\u001b[1;32m     41\u001b[0m         \u001b[38;5;124m\"\u001b[39m\u001b[38;5;124m2033\u001b[39m\u001b[38;5;124m\"\u001b[39m, \u001b[38;5;124m\"\u001b[39m\u001b[38;5;124m2024-2033\u001b[39m\u001b[38;5;124m\"\u001b[39m\n\u001b[1;32m     42\u001b[0m     ]\n\u001b[1;32m     43\u001b[0m     \u001b[38;5;28;01mfor\u001b[39;00m col \u001b[38;5;129;01min\u001b[39;00m numeric_columns:\n\u001b[0;32m---> 44\u001b[0m         diff_df\u001b[38;5;241m.\u001b[39mloc[i, col] \u001b[38;5;241m=\u001b[39m \u001b[43mdiff_sec_df\u001b[49m\u001b[43m[\u001b[49m\u001b[43mcol\u001b[49m\u001b[43m]\u001b[49m\u001b[38;5;241m.\u001b[39mvalues[\u001b[38;5;241m0\u001b[39m]\n\u001b[1;32m     46\u001b[0m diff_df\n",
      "File \u001b[0;32m/opt/anaconda3/envs/tcjaperm-dev/lib/python3.11/site-packages/pandas/core/frame.py:4090\u001b[0m, in \u001b[0;36mDataFrame.__getitem__\u001b[0;34m(self, key)\u001b[0m\n\u001b[1;32m   4088\u001b[0m \u001b[38;5;28;01mif\u001b[39;00m \u001b[38;5;28mself\u001b[39m\u001b[38;5;241m.\u001b[39mcolumns\u001b[38;5;241m.\u001b[39mnlevels \u001b[38;5;241m>\u001b[39m \u001b[38;5;241m1\u001b[39m:\n\u001b[1;32m   4089\u001b[0m     \u001b[38;5;28;01mreturn\u001b[39;00m \u001b[38;5;28mself\u001b[39m\u001b[38;5;241m.\u001b[39m_getitem_multilevel(key)\n\u001b[0;32m-> 4090\u001b[0m indexer \u001b[38;5;241m=\u001b[39m \u001b[38;5;28;43mself\u001b[39;49m\u001b[38;5;241;43m.\u001b[39;49m\u001b[43mcolumns\u001b[49m\u001b[38;5;241;43m.\u001b[39;49m\u001b[43mget_loc\u001b[49m\u001b[43m(\u001b[49m\u001b[43mkey\u001b[49m\u001b[43m)\u001b[49m\n\u001b[1;32m   4091\u001b[0m \u001b[38;5;28;01mif\u001b[39;00m is_integer(indexer):\n\u001b[1;32m   4092\u001b[0m     indexer \u001b[38;5;241m=\u001b[39m [indexer]\n",
      "File \u001b[0;32m/opt/anaconda3/envs/tcjaperm-dev/lib/python3.11/site-packages/pandas/core/indexes/base.py:3812\u001b[0m, in \u001b[0;36mIndex.get_loc\u001b[0;34m(self, key)\u001b[0m\n\u001b[1;32m   3807\u001b[0m     \u001b[38;5;28;01mif\u001b[39;00m \u001b[38;5;28misinstance\u001b[39m(casted_key, \u001b[38;5;28mslice\u001b[39m) \u001b[38;5;129;01mor\u001b[39;00m (\n\u001b[1;32m   3808\u001b[0m         \u001b[38;5;28misinstance\u001b[39m(casted_key, abc\u001b[38;5;241m.\u001b[39mIterable)\n\u001b[1;32m   3809\u001b[0m         \u001b[38;5;129;01mand\u001b[39;00m \u001b[38;5;28many\u001b[39m(\u001b[38;5;28misinstance\u001b[39m(x, \u001b[38;5;28mslice\u001b[39m) \u001b[38;5;28;01mfor\u001b[39;00m x \u001b[38;5;129;01min\u001b[39;00m casted_key)\n\u001b[1;32m   3810\u001b[0m     ):\n\u001b[1;32m   3811\u001b[0m         \u001b[38;5;28;01mraise\u001b[39;00m InvalidIndexError(key)\n\u001b[0;32m-> 3812\u001b[0m     \u001b[38;5;28;01mraise\u001b[39;00m \u001b[38;5;167;01mKeyError\u001b[39;00m(key) \u001b[38;5;28;01mfrom\u001b[39;00m \u001b[38;5;21;01merr\u001b[39;00m\n\u001b[1;32m   3813\u001b[0m \u001b[38;5;28;01mexcept\u001b[39;00m \u001b[38;5;167;01mTypeError\u001b[39;00m:\n\u001b[1;32m   3814\u001b[0m     \u001b[38;5;66;03m# If we have a listlike key, _check_indexing_error will raise\u001b[39;00m\n\u001b[1;32m   3815\u001b[0m     \u001b[38;5;66;03m#  InvalidIndexError. Otherwise we fall through and re-raise\u001b[39;00m\n\u001b[1;32m   3816\u001b[0m     \u001b[38;5;66;03m#  the TypeError.\u001b[39;00m\n\u001b[1;32m   3817\u001b[0m     \u001b[38;5;28mself\u001b[39m\u001b[38;5;241m.\u001b[39m_check_indexing_error(key)\n",
      "\u001b[0;31mKeyError\u001b[0m: '2024'"
     ]
    }
   ],
   "source": [
    "# Create blank pandas dataframe with columns [\"Provisions\", \"2024\", \"2025\",..., \"2033\", \"2024-2033\"]\n",
    "diff_df = pd.DataFrame(\n",
    "    columns=[\n",
    "        \"Provisions\", \"2024\", \"2025\", \"2026\", \"2027\", \"2028\", \"2029\", \"2030\",\n",
    "        \"2031\", \"2032\", \"2033\", \"2024-2033\"\n",
    "    ]\n",
    ")\n",
    "\n",
    "for i,tpl in enumerate(sec_ref1_list):\n",
    "    print(\"\")\n",
    "    print(\"Simulating \" + tpl[0])\n",
    "    pol = tc.Policy()\n",
    "    calc_base = tc.Calculator(policy=pol, records=recs)\n",
    "    CYR = 2024\n",
    "    calc_base.advance_to_year(CYR)\n",
    "    calc_base.calc_all()\n",
    "\n",
    "    params_ref = pol.read_json_reform(tpl[1])\n",
    "    pol.implement_reform(params_ref)\n",
    "    calc_ref = tc.Calculator(policy=pol, records=recs)\n",
    "\n",
    "    rev_base = {'IIT': {}}\n",
    "    rev_ref = {'IIT': {}}\n",
    "    for t in range(2024, 2034):\n",
    "        calc_base.advance_to_year(t)\n",
    "        calc_base.calc_all()\n",
    "        calc_ref.advance_to_year(t)\n",
    "        calc_ref.calc_all()\n",
    "        rev_base['IIT'][t] = calc_base.weighted_total('iitax')\n",
    "        rev_ref['IIT'][t] = calc_ref.weighted_total('iitax')\n",
    "\n",
    "    rev_base_df = pd.DataFrame.from_dict(rev_base).T\n",
    "    rev_ref_df = pd.DataFrame.from_dict(rev_ref).T\n",
    "    diff_sec_df = (rev_ref_df - rev_base_df) * 1e-9  # in $ billions\n",
    "    pd.options.display.float_format = '${:.3f}'.format\n",
    "    diff_sec_df['2024-2033'] = diff_sec_df.sum(axis=1)\n",
    "    print(diff_sec_df)\n",
    "    diff_df.loc[i, \"Provisions\"] = tpl[0]\n",
    "    numeric_columns = [\n",
    "        \"2024\", \"2025\", \"2026\", \"2027\", \"2028\", \"2029\", \"2030\", \"2031\", \"2032\",\n",
    "        \"2033\", \"2024-2033\"\n",
    "    ]\n",
    "    for col in numeric_columns:\n",
    "        diff_df.loc[i, col] = diff_sec_df[col].values[0]\n",
    "\n",
    "diff_df"
   ]
  },
  {
   "cell_type": "markdown",
   "id": "5976734d",
   "metadata": {},
   "source": [
    "## 2. Create Simple Reform"
   ]
  },
  {
   "cell_type": "markdown",
   "id": "6fd5be36",
   "metadata": {},
   "source": [
    "Create a new baseline for simple reform."
   ]
  },
  {
   "cell_type": "code",
   "execution_count": null,
   "id": "201c9cff",
   "metadata": {},
   "outputs": [],
   "source": [
    "pol_simp = tc.Policy()\n",
    "calc_base_simp = tc.Calculator(policy=pol_simp, records=recs)\n",
    "CYR = 2024\n",
    "calc_base_simp.advance_to_year(CYR)\n",
    "calc_base_simp.calc_all()\n",
    "itax_rev_base_simp = calc_base_simp.weighted_total('iitax')"
   ]
  },
  {
   "cell_type": "markdown",
   "id": "703a0e50",
   "metadata": {},
   "source": [
    "Create a reform json and corresponding calculator that is simple and straightforward."
   ]
  },
  {
   "cell_type": "code",
   "execution_count": null,
   "id": "7707ca66",
   "metadata": {},
   "outputs": [],
   "source": [
    "reform_json_simp = {\n",
    "    \"II_rt1\": {\n",
    "        \"2024\": 0.08,\n",
    "        \"2025\": 0.08,\n",
    "        \"2026\": 0.08\n",
    "    },\n",
    "    \"II_rt2\": {\n",
    "        \"2024\": 0.10,\n",
    "        \"2025\": 0.10,\n",
    "        \"2026\": 0.10\n",
    "    },\n",
    "    \"II_rt3\": {\n",
    "        \"2024\": 0.20,\n",
    "        \"2025\": 0.20,\n",
    "        \"2026\": 0.20\n",
    "    }\n",
    "}"
   ]
  },
  {
   "cell_type": "code",
   "execution_count": null,
   "id": "e8634ae6",
   "metadata": {},
   "outputs": [],
   "source": [
    "params_simp = pol_simp.read_json_reform(reform_json_simp)\n",
    "pol_simp.implement_reform(params_simp)\n",
    "calc_ref_simp = tc.Calculator(policy=pol_simp, records=recs)"
   ]
  },
  {
   "cell_type": "code",
   "execution_count": null,
   "id": "7bda0f83",
   "metadata": {},
   "outputs": [],
   "source": [
    "rev_base_simp = {'IIT': {}, 'Payroll': {}}\n",
    "rev_ref_simp = {'IIT': {}, 'Payroll': {}}\n",
    "for t in range(2024, 2034):\n",
    "    calc_base_simp.advance_to_year(t)\n",
    "    calc_base_simp.calc_all()\n",
    "    calc_ref_simp.advance_to_year(t)\n",
    "    calc_ref_simp.calc_all()\n",
    "    rev_base_simp['IIT'][t] = calc_base_simp.weighted_total('iitax')\n",
    "    rev_base_simp['Payroll'][t] = calc_base_simp.weighted_total('payrolltax')\n",
    "    rev_ref_simp['IIT'][t] = calc_ref_simp.weighted_total('iitax')\n",
    "    rev_ref_simp['Payroll'][t] = calc_ref_simp.weighted_total('payrolltax')"
   ]
  },
  {
   "cell_type": "code",
   "execution_count": null,
   "id": "dc6d47a9",
   "metadata": {},
   "outputs": [],
   "source": [
    "rev_base_simp_df = pd.DataFrame.from_dict(rev_base_simp).T\n",
    "rev_ref_simp_df = pd.DataFrame.from_dict(rev_ref_simp).T\n",
    "diff_simp_df = (rev_ref_simp_df - rev_base_simp_df) * 1e-9  # in $ billions\n",
    "pd.options.display.float_format = '${:.3f}'.format\n",
    "diff_simp_df['2024-2033'] = diff_simp_df.sum(axis=1)\n",
    "# print(diff_simp_df.to_latex())\n",
    "diff_simp_df"
   ]
  },
  {
   "cell_type": "markdown",
   "id": "atomic-throat",
   "metadata": {},
   "source": [
    "# Distributional results\n",
    "\n",
    "See below + table by Cody"
   ]
  },
  {
   "cell_type": "code",
   "execution_count": null,
   "id": "dedicated-navigator",
   "metadata": {},
   "outputs": [],
   "source": [
    "# Restart calculation to get back to first year\n",
    "pol = taxcalc.policy.Policy()\n",
    "tc_base = taxcalc.calculator.Calculator(policy=pol, records=rec)\n",
    "pol.implement_reform(ref)\n",
    "tc_arpa = taxcalc.calculator.Calculator(policy=pol, records=rec)\n",
    "tc_base.advance_to_year(2021)\n",
    "tc_arpa.advance_to_year(2021)\n",
    "tc_base.calc_all()\n",
    "tc_arpa.calc_all()\n",
    "\n",
    "# get data for plots\n",
    "mars = 'ALL'\n",
    "mtr_wrt_full_compen = True\n",
    "record_variables = ['s006', 'XTOT']\n",
    "if mars != 'ALL':\n",
    "    record_variables.append('MARS')\n",
    "record_variables.append('expanded_income')\n",
    "record_variables.append('e00200')\n",
    "vdf = tc_base.dataframe(record_variables)\n",
    "# create 'tax1' and 'tax2' columns given specified atr_measure\n",
    "vdf['tax1'] = tc_base.array('iitax')\n",
    "vdf['tax2'] = tc_arpa.array('iitax')\n",
    "# compute mtrs for mtr plot data\n",
    "(mtr1_ptax, mtr1_itax, mtr1_combined) = tc_base.mtr(\n",
    "    variable_str='e00200p', wrt_full_compensation=mtr_wrt_full_compen)\n",
    "(mtr2_ptax, mtr2_itax, mtr2_combined) = tc_arpa.mtr(\n",
    "    variable_str='e00200p', wrt_full_compensation=mtr_wrt_full_compen)\n",
    "vdf['mtr1'] = mtr1_itax\n",
    "vdf['mtr2'] = mtr2_itax\n",
    "\n",
    "mtr_data = taxcalc.calculator.mtr_graph_data(vdf,\n",
    "                              year=2021,\n",
    "                              mars=mars,\n",
    "                              mtr_measure='itax',\n",
    "                              alt_e00200p_text='This text',\n",
    "                              mtr_wrt_full_compen=True,\n",
    "                              income_measure='expanded_income',\n",
    "                              pop_quantiles=True,\n",
    "                              dollar_weighting=False)\n",
    "atr_data = taxcalc.calculator.atr_graph_data(vdf,\n",
    "                              year=2021,\n",
    "                              mars=mars,\n",
    "                              atr_measure='itax',\n",
    "                              pop_quantiles=True)"
   ]
  },
  {
   "cell_type": "code",
   "execution_count": null,
   "id": "healthy-newton",
   "metadata": {},
   "outputs": [],
   "source": [
    "plt.plot(mtr_data['lines'].index, mtr_data['lines'].base.values, label='Pre-ARPA')\n",
    "plt.plot(mtr_data['lines'].index, mtr_data['lines'].reform.values, label='Post-ARPA')\n",
    "plt.xlabel('Income Percentile')\n",
    "plt.ylabel('Marginal Tax Rate on Wage Income')\n",
    "plt.legend(loc=9, bbox_to_anchor=(0.5, -0.15), ncol=2)\n",
    "plt.savefig('arpa_mtr_plot.png', bbox_inches='tight')"
   ]
  },
  {
   "cell_type": "code",
   "execution_count": null,
   "id": "incorrect-session",
   "metadata": {},
   "outputs": [],
   "source": [
    "plt.plot(atr_data['lines'].index, atr_data['lines'].base.values, label='Pre-ARPA')\n",
    "plt.plot(atr_data['lines'].index, atr_data['lines'].reform.values, label='Post-ARPA')\n",
    "plt.xlabel('Income Percentile')\n",
    "plt.ylabel('Average Tax Rate')\n",
    "plt.legend(loc=9, bbox_to_anchor=(0.5, -0.15), ncol=2)\n",
    "plt.savefig('arpa_atr_plot.png', bbox_inches='tight')"
   ]
  },
  {
   "cell_type": "markdown",
   "id": "brave-gravity",
   "metadata": {},
   "source": [
    "# Tax benefits by family size"
   ]
  },
  {
   "cell_type": "code",
   "execution_count": null,
   "id": "numerical-subject",
   "metadata": {},
   "outputs": [],
   "source": [
    "df = tc_base.dataframe(['nu18', 'XTOT', 'iitax', 'c00100', 's006', 'aftertax_income', 'expanded_income'])\n",
    "df['ARPA_iitax'] = tc_arpa.array('iitax')\n",
    "df['tax_change'] = df['ARPA_iitax'] - df['iitax']\n",
    "df['aftertax_income_ARPA'] = tc_arpa.array('aftertax_income')\n",
    "df.groupby('nu18')[['s006', 'XTOT']].sum()"
   ]
  },
  {
   "cell_type": "code",
   "execution_count": null,
   "id": "focused-nicaragua",
   "metadata": {},
   "outputs": [],
   "source": [
    "mdf.weighted_mean(df, 'nu18', 's006')"
   ]
  },
  {
   "cell_type": "code",
   "execution_count": null,
   "id": "australian-protein",
   "metadata": {},
   "outputs": [],
   "source": [
    "decile_bounds = np.arange(0, 1.1, 0.1)\n",
    "deciles = mdf.weighted_quantile(df, 'c00100', 's006', decile_bounds)\n",
    "quintile_bounds = np.arange(0, 1.2, 0.2)\n",
    "quintiles = mdf.weighted_quantile(df, 'c00100', 's006', quintile_bounds)"
   ]
  },
  {
   "cell_type": "code",
   "execution_count": null,
   "id": "subject-virgin",
   "metadata": {},
   "outputs": [],
   "source": [
    "df_group = mdf.weighted_mean(df, 'tax_change', w='s006', groupby=['nu18'])\n",
    "df_group.plot.bar()"
   ]
  },
  {
   "cell_type": "code",
   "execution_count": null,
   "id": "empty-parameter",
   "metadata": {},
   "outputs": [],
   "source": [
    "from cycler import cycler\n",
    "from cycler import cycler\n",
    "N = 7\n",
    "plt.rcParams[\"axes.prop_cycle\"] = plt.cycler(\"color\", plt.cm.Blues(np.linspace(0.2,1,N)))\n",
    "\n",
    "\n",
    "df['quintiles'] = pd.cut(df['expanded_income'], bins=quintiles, labels=np.arange(1,6).tolist())\n",
    "df_group = pd.DataFrame(mdf.weighted_mean(df, 'tax_change', w='s006', groupby=['nu18', 'quintiles']))\n",
    "# df_group.plot.bar()\n",
    "df_group.reset_index(inplace=True)\n",
    "df_group.rename(columns={0: 'Average Change in Taxes', 'nu18': 'Number of Children', 'quintiles': 'Income Quintiles'}, inplace=True)\n",
    "df_group['Number of Children'] = df_group['Number of Children'].astype('int64')\n",
    "ax1 = df_group.pivot(\"Income Quintiles\", \"Number of Children\", \"Average Change in Taxes\").plot(kind='bar', alpha=1.0)\n",
    "plt.ylabel('Mean Tax Change')\n",
    "plt.xticks(rotation = 0)\n",
    "plt.legend(title='Number of Children', loc=9, bbox_to_anchor=(0.5, -0.15), ncol=3)\n",
    "plt.savefig('bar_plot_by_kids.png', bbox_inches='tight')"
   ]
  },
  {
   "cell_type": "code",
   "execution_count": null,
   "id": "large-apache",
   "metadata": {},
   "outputs": [],
   "source": [
    "df.drop(df[df['expanded_income'] < 0].index, inplace=True)\n",
    "percentile_bounds = np.arange(0, 1.01, 0.01)\n",
    "percentiles = mdf.weighted_quantile(df, 'expanded_income', 's006', percentile_bounds)\n",
    "df['Percentile'] = pd.cut(df['expanded_income'], bins=percentiles, labels=np.arange(1,101).tolist())\n",
    "df_group = pd.DataFrame(mdf.weighted_mean(\n",
    "    df, ['aftertax_income', 'aftertax_income_ARPA'], w='s006', groupby='Percentile'))\n",
    "df_group.reset_index(inplace=True)\n",
    "df_group.plot(kind='line', alpha=1.0)\n",
    "plt.ylim([0, 50000])\n",
    "# plt.ylabel('Mean Tax Change')\n",
    "# plt.xticks(rotation = 0)\n",
    "# plt.legend(title='Number of Children', loc=9, bbox_to_anchor=(0.5, -0.15), ncol=3)\n",
    "# plt.savefig('bar_plot_by_kids.png', bbox_inches='tight')\n"
   ]
  },
  {
   "cell_type": "code",
   "execution_count": null,
   "id": "electrical-offering",
   "metadata": {},
   "outputs": [],
   "source": [
    "df_group"
   ]
  },
  {
   "cell_type": "code",
   "execution_count": null,
   "id": "square-following",
   "metadata": {},
   "outputs": [],
   "source": [
    "decile_bounds = np.arange(0, 1.1, 0.1)"
   ]
  },
  {
   "cell_type": "code",
   "execution_count": null,
   "id": "german-squad",
   "metadata": {},
   "outputs": [],
   "source": []
  },
  {
   "cell_type": "code",
   "execution_count": null,
   "id": "connected-cassette",
   "metadata": {},
   "outputs": [],
   "source": [
    "pct_bounds = np.array([0, 0.2, 0.4, 0.6, 0.8, 0.9, 0.99, 1.0])\n",
    "percentiles = mdf.weighted_quantile(df, 'cexpanded_income', 's006', pct_bounds)\n",
    "df['Percentile'] = pd.cut(df['expanded_income'], bins=percentiles)\n",
    "df_group = pd.DataFrame(mdf.weighted_mean(\n",
    "    df, ['aftertax_income', 'aftertax_income_ARPA'], w='s006', groupby='Percentile'))\n",
    "df_group.reset_index(inplace=True)\n",
    "df_group.plot(kind='line', alpha=1.0)\n",
    "# plt.ylim([0, 50000])"
   ]
  },
  {
   "cell_type": "code",
   "execution_count": null,
   "id": "abroad-funeral",
   "metadata": {},
   "outputs": [],
   "source": []
  }
 ],
 "metadata": {
  "kernelspec": {
   "display_name": "Python 3",
   "language": "python",
   "name": "python3"
  },
  "language_info": {
   "codemirror_mode": {
    "name": "ipython",
    "version": 3
   },
   "file_extension": ".py",
   "mimetype": "text/x-python",
   "name": "python",
   "nbconvert_exporter": "python",
   "pygments_lexer": "ipython3",
   "version": "3.11.8"
  }
 },
 "nbformat": 4,
 "nbformat_minor": 5
}
