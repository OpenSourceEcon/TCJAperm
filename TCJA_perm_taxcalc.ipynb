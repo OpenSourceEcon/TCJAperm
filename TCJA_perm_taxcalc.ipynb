{
 "cells": [
  {
   "cell_type": "markdown",
   "id": "jewish-jumping",
   "metadata": {},
   "source": [
    "# TCJA Permanency Act\n",
    "To run this notebook, you need the following:\n",
    "1. Fork the repository https://github.com/OpenSourceEcon/TCJAperm and clone it to your local machine.\n",
    "2. Navigate to the `/TCJAperm/` directory in your terminal and create the `tcjaperm-dev` conda environment by typing: `conda env create -f environment.yml`\n",
    "3. Open the `TCJA_perm_taxcalc.ipynb` notebook and set the kernel in the notebook to the `tcjaperm-dev` conda environment.\n",
    "4. Execute the cells in the `TCJA_perm_taxcalc.ipynb` notebook.\n",
    "    * You will need to adjust the file path to the `puf.csv` file in code cell 2 and the path to the `TCJA_perm.json` file in code cell 3.\n",
    "    * If you do not have the IRS Public Use File, then you will need to use the CPS file included with Tax-Calculator. That code is commented out in cell 2."
   ]
  },
  {
   "cell_type": "code",
   "execution_count": 1,
   "id": "composite-while",
   "metadata": {},
   "outputs": [],
   "source": [
    "import pandas as pd\n",
    "import numpy as np\n",
    "from bokeh.plotting import figure, show\n",
    "from bokeh.io import output_notebook\n",
    "import taxcalc as tc\n",
    "import matplotlib.pyplot as plt"
   ]
  },
  {
   "cell_type": "code",
   "execution_count": 2,
   "id": "surprising-democracy",
   "metadata": {},
   "outputs": [],
   "source": [
    "puf_path = (\n",
    "    \"/Users/richardevans/Docs/Economics/OSE/Tax-Calculator/taxcalc/puf.csv\"\n",
    ")\n",
    "recs = tc.Records(data=puf_path)\n",
    "# If you need to use the CPS data file included with Tax-Calculator, comment\n",
    "# out the previous lines in this cell and uncomment the following line.\n",
    "# recs = tc.Records.cps_constructor()\n",
    "pol = tc.Policy()\n",
    "calc_base = tc.Calculator(policy=pol, records=recs)\n",
    "CYR = 2024\n",
    "calc_base.advance_to_year(CYR)\n",
    "calc_base.calc_all()\n",
    "itax_rev_base = calc_base.weighted_total('iitax')"
   ]
  },
  {
   "cell_type": "code",
   "execution_count": 3,
   "id": "cd7cb6a2",
   "metadata": {},
   "outputs": [],
   "source": [
    "reform_json_path = (\n",
    "    \"/Users/richardevans/Docs/Economics/OSE/TCJAperm/json/TCJA_perm.json\"\n",
    ")\n",
    "params_ref1 = pol.read_json_reform(reform_json_path)\n",
    "pol.implement_reform(params_ref1)\n",
    "calc_ref1 = tc.Calculator(policy=pol, records=recs)"
   ]
  },
  {
   "cell_type": "code",
   "execution_count": 4,
   "id": "supposed-magnitude",
   "metadata": {},
   "outputs": [],
   "source": [
    "# Compute annual revenue for each year in a 10 year budget window\n",
    "# Do this for with and without the ARPA\n",
    "rev_base = {'IIT': {}, 'Payroll': {}}\n",
    "rev_ref1 = {'IIT': {}, 'Payroll': {}}\n",
    "for t in range(2024, 2034):\n",
    "    calc_base.advance_to_year(t)\n",
    "    calc_base.calc_all()\n",
    "    calc_ref1.advance_to_year(t)\n",
    "    calc_ref1.calc_all()\n",
    "    rev_base['IIT'][t] = calc_base.weighted_total('iitax')\n",
    "    rev_base['Payroll'][t] = calc_base.weighted_total('payrolltax')\n",
    "    rev_ref1['IIT'][t] = calc_ref1.weighted_total('iitax')\n",
    "    rev_ref1['Payroll'][t] = calc_ref1.weighted_total('payrolltax')"
   ]
  },
  {
   "cell_type": "code",
   "execution_count": 5,
   "id": "abroad-samba",
   "metadata": {},
   "outputs": [
    {
     "data": {
      "text/html": [
       "<div>\n",
       "<style scoped>\n",
       "    .dataframe tbody tr th:only-of-type {\n",
       "        vertical-align: middle;\n",
       "    }\n",
       "\n",
       "    .dataframe tbody tr th {\n",
       "        vertical-align: top;\n",
       "    }\n",
       "\n",
       "    .dataframe thead th {\n",
       "        text-align: right;\n",
       "    }\n",
       "</style>\n",
       "<table border=\"1\" class=\"dataframe\">\n",
       "  <thead>\n",
       "    <tr style=\"text-align: right;\">\n",
       "      <th></th>\n",
       "      <th>2024</th>\n",
       "      <th>2025</th>\n",
       "      <th>2026</th>\n",
       "      <th>2027</th>\n",
       "      <th>2028</th>\n",
       "      <th>2029</th>\n",
       "      <th>2030</th>\n",
       "      <th>2031</th>\n",
       "      <th>2032</th>\n",
       "      <th>2033</th>\n",
       "      <th>2024-2033</th>\n",
       "    </tr>\n",
       "  </thead>\n",
       "  <tbody>\n",
       "    <tr>\n",
       "      <th>IIT</th>\n",
       "      <td>$0.000</td>\n",
       "      <td>$0.000</td>\n",
       "      <td>$-29.243</td>\n",
       "      <td>$-27.224</td>\n",
       "      <td>$-25.339</td>\n",
       "      <td>$-23.578</td>\n",
       "      <td>$-21.615</td>\n",
       "      <td>$-20.117</td>\n",
       "      <td>$-17.387</td>\n",
       "      <td>$-9.473</td>\n",
       "      <td>$-173.975</td>\n",
       "    </tr>\n",
       "    <tr>\n",
       "      <th>Payroll</th>\n",
       "      <td>$0.000</td>\n",
       "      <td>$0.000</td>\n",
       "      <td>$0.000</td>\n",
       "      <td>$0.000</td>\n",
       "      <td>$0.000</td>\n",
       "      <td>$0.000</td>\n",
       "      <td>$0.000</td>\n",
       "      <td>$0.000</td>\n",
       "      <td>$0.000</td>\n",
       "      <td>$0.000</td>\n",
       "      <td>$0.000</td>\n",
       "    </tr>\n",
       "  </tbody>\n",
       "</table>\n",
       "</div>"
      ],
      "text/plain": [
       "          2024   2025     2026     2027     2028     2029     2030     2031  \\\n",
       "IIT     $0.000 $0.000 $-29.243 $-27.224 $-25.339 $-23.578 $-21.615 $-20.117   \n",
       "Payroll $0.000 $0.000   $0.000   $0.000   $0.000   $0.000   $0.000   $0.000   \n",
       "\n",
       "            2032    2033  2024-2033  \n",
       "IIT     $-17.387 $-9.473  $-173.975  \n",
       "Payroll   $0.000  $0.000     $0.000  "
      ]
     },
     "execution_count": 5,
     "metadata": {},
     "output_type": "execute_result"
    }
   ],
   "source": [
    "# make table of revenue estimates\n",
    "rev_base_df = pd.DataFrame.from_dict(rev_base).T\n",
    "rev_ref1_df = pd.DataFrame.from_dict(rev_ref1).T\n",
    "diff_df = (rev_ref1_df - rev_base_df) * 1e-9  # in $ billions\n",
    "pd.options.display.float_format = '${:.3f}'.format\n",
    "diff_df['2024-2033'] = diff_df.sum(axis=1)\n",
    "# print(diff_df.to_latex())\n",
    "diff_df"
   ]
  },
  {
   "cell_type": "code",
   "execution_count": null,
   "id": "62151ae8",
   "metadata": {},
   "outputs": [],
   "source": [
    "diff_df.index"
   ]
  },
  {
   "cell_type": "markdown",
   "id": "atomic-throat",
   "metadata": {},
   "source": [
    "# Distributional results\n",
    "\n",
    "See below + table by Cody"
   ]
  },
  {
   "cell_type": "code",
   "execution_count": null,
   "id": "dedicated-navigator",
   "metadata": {},
   "outputs": [],
   "source": [
    "# Restart calculation to get back to first year\n",
    "pol = taxcalc.policy.Policy()\n",
    "tc_base = taxcalc.calculator.Calculator(policy=pol, records=rec)\n",
    "pol.implement_reform(ref)\n",
    "tc_arpa = taxcalc.calculator.Calculator(policy=pol, records=rec)\n",
    "tc_base.advance_to_year(2021)\n",
    "tc_arpa.advance_to_year(2021)\n",
    "tc_base.calc_all()\n",
    "tc_arpa.calc_all()\n",
    "\n",
    "# get data for plots\n",
    "mars = 'ALL'\n",
    "mtr_wrt_full_compen = True\n",
    "record_variables = ['s006', 'XTOT']\n",
    "if mars != 'ALL':\n",
    "    record_variables.append('MARS')\n",
    "record_variables.append('expanded_income')\n",
    "record_variables.append('e00200')\n",
    "vdf = tc_base.dataframe(record_variables)\n",
    "# create 'tax1' and 'tax2' columns given specified atr_measure\n",
    "vdf['tax1'] = tc_base.array('iitax')\n",
    "vdf['tax2'] = tc_arpa.array('iitax')\n",
    "# compute mtrs for mtr plot data\n",
    "(mtr1_ptax, mtr1_itax, mtr1_combined) = tc_base.mtr(\n",
    "    variable_str='e00200p', wrt_full_compensation=mtr_wrt_full_compen)\n",
    "(mtr2_ptax, mtr2_itax, mtr2_combined) = tc_arpa.mtr(\n",
    "    variable_str='e00200p', wrt_full_compensation=mtr_wrt_full_compen)\n",
    "vdf['mtr1'] = mtr1_itax\n",
    "vdf['mtr2'] = mtr2_itax\n",
    "\n",
    "mtr_data = taxcalc.calculator.mtr_graph_data(vdf,\n",
    "                              year=2021,\n",
    "                              mars=mars,\n",
    "                              mtr_measure='itax',\n",
    "                              alt_e00200p_text='This text',\n",
    "                              mtr_wrt_full_compen=True,\n",
    "                              income_measure='expanded_income',\n",
    "                              pop_quantiles=True,\n",
    "                              dollar_weighting=False)\n",
    "atr_data = taxcalc.calculator.atr_graph_data(vdf,\n",
    "                              year=2021,\n",
    "                              mars=mars,\n",
    "                              atr_measure='itax',\n",
    "                              pop_quantiles=True)"
   ]
  },
  {
   "cell_type": "code",
   "execution_count": null,
   "id": "healthy-newton",
   "metadata": {},
   "outputs": [],
   "source": [
    "plt.plot(mtr_data['lines'].index, mtr_data['lines'].base.values, label='Pre-ARPA')\n",
    "plt.plot(mtr_data['lines'].index, mtr_data['lines'].reform.values, label='Post-ARPA')\n",
    "plt.xlabel('Income Percentile')\n",
    "plt.ylabel('Marginal Tax Rate on Wage Income')\n",
    "plt.legend(loc=9, bbox_to_anchor=(0.5, -0.15), ncol=2)\n",
    "plt.savefig('arpa_mtr_plot.png', bbox_inches='tight')"
   ]
  },
  {
   "cell_type": "code",
   "execution_count": null,
   "id": "incorrect-session",
   "metadata": {},
   "outputs": [],
   "source": [
    "plt.plot(atr_data['lines'].index, atr_data['lines'].base.values, label='Pre-ARPA')\n",
    "plt.plot(atr_data['lines'].index, atr_data['lines'].reform.values, label='Post-ARPA')\n",
    "plt.xlabel('Income Percentile')\n",
    "plt.ylabel('Average Tax Rate')\n",
    "plt.legend(loc=9, bbox_to_anchor=(0.5, -0.15), ncol=2)\n",
    "plt.savefig('arpa_atr_plot.png', bbox_inches='tight')"
   ]
  },
  {
   "cell_type": "markdown",
   "id": "brave-gravity",
   "metadata": {},
   "source": [
    "# Tax benefits by family size"
   ]
  },
  {
   "cell_type": "code",
   "execution_count": null,
   "id": "numerical-subject",
   "metadata": {},
   "outputs": [],
   "source": [
    "df = tc_base.dataframe(['nu18', 'XTOT', 'iitax', 'c00100', 's006', 'aftertax_income', 'expanded_income'])\n",
    "df['ARPA_iitax'] = tc_arpa.array('iitax')\n",
    "df['tax_change'] = df['ARPA_iitax'] - df['iitax']\n",
    "df['aftertax_income_ARPA'] = tc_arpa.array('aftertax_income')\n",
    "df.groupby('nu18')[['s006', 'XTOT']].sum()"
   ]
  },
  {
   "cell_type": "code",
   "execution_count": null,
   "id": "focused-nicaragua",
   "metadata": {},
   "outputs": [],
   "source": [
    "mdf.weighted_mean(df, 'nu18', 's006')"
   ]
  },
  {
   "cell_type": "code",
   "execution_count": null,
   "id": "australian-protein",
   "metadata": {},
   "outputs": [],
   "source": [
    "decile_bounds = np.arange(0, 1.1, 0.1)\n",
    "deciles = mdf.weighted_quantile(df, 'c00100', 's006', decile_bounds)\n",
    "quintile_bounds = np.arange(0, 1.2, 0.2)\n",
    "quintiles = mdf.weighted_quantile(df, 'c00100', 's006', quintile_bounds)"
   ]
  },
  {
   "cell_type": "code",
   "execution_count": null,
   "id": "subject-virgin",
   "metadata": {},
   "outputs": [],
   "source": [
    "df_group = mdf.weighted_mean(df, 'tax_change', w='s006', groupby=['nu18'])\n",
    "df_group.plot.bar()"
   ]
  },
  {
   "cell_type": "code",
   "execution_count": null,
   "id": "empty-parameter",
   "metadata": {},
   "outputs": [],
   "source": [
    "from cycler import cycler\n",
    "from cycler import cycler\n",
    "N = 7\n",
    "plt.rcParams[\"axes.prop_cycle\"] = plt.cycler(\"color\", plt.cm.Blues(np.linspace(0.2,1,N)))\n",
    "\n",
    "\n",
    "df['quintiles'] = pd.cut(df['expanded_income'], bins=quintiles, labels=np.arange(1,6).tolist())\n",
    "df_group = pd.DataFrame(mdf.weighted_mean(df, 'tax_change', w='s006', groupby=['nu18', 'quintiles']))\n",
    "# df_group.plot.bar()\n",
    "df_group.reset_index(inplace=True)\n",
    "df_group.rename(columns={0: 'Average Change in Taxes', 'nu18': 'Number of Children', 'quintiles': 'Income Quintiles'}, inplace=True)\n",
    "df_group['Number of Children'] = df_group['Number of Children'].astype('int64')\n",
    "ax1 = df_group.pivot(\"Income Quintiles\", \"Number of Children\", \"Average Change in Taxes\").plot(kind='bar', alpha=1.0)\n",
    "plt.ylabel('Mean Tax Change')\n",
    "plt.xticks(rotation = 0)\n",
    "plt.legend(title='Number of Children', loc=9, bbox_to_anchor=(0.5, -0.15), ncol=3)\n",
    "plt.savefig('bar_plot_by_kids.png', bbox_inches='tight')"
   ]
  },
  {
   "cell_type": "code",
   "execution_count": null,
   "id": "large-apache",
   "metadata": {},
   "outputs": [],
   "source": [
    "df.drop(df[df['expanded_income'] < 0].index, inplace=True)\n",
    "percentile_bounds = np.arange(0, 1.01, 0.01)\n",
    "percentiles = mdf.weighted_quantile(df, 'expanded_income', 's006', percentile_bounds)\n",
    "df['Percentile'] = pd.cut(df['expanded_income'], bins=percentiles, labels=np.arange(1,101).tolist())\n",
    "df_group = pd.DataFrame(mdf.weighted_mean(\n",
    "    df, ['aftertax_income', 'aftertax_income_ARPA'], w='s006', groupby='Percentile'))\n",
    "df_group.reset_index(inplace=True)\n",
    "df_group.plot(kind='line', alpha=1.0)\n",
    "plt.ylim([0, 50000])\n",
    "# plt.ylabel('Mean Tax Change')\n",
    "# plt.xticks(rotation = 0)\n",
    "# plt.legend(title='Number of Children', loc=9, bbox_to_anchor=(0.5, -0.15), ncol=3)\n",
    "# plt.savefig('bar_plot_by_kids.png', bbox_inches='tight')\n"
   ]
  },
  {
   "cell_type": "code",
   "execution_count": null,
   "id": "electrical-offering",
   "metadata": {},
   "outputs": [],
   "source": [
    "df_group"
   ]
  },
  {
   "cell_type": "code",
   "execution_count": null,
   "id": "square-following",
   "metadata": {},
   "outputs": [],
   "source": [
    "decile_bounds = np.arange(0, 1.1, 0.1)"
   ]
  },
  {
   "cell_type": "code",
   "execution_count": null,
   "id": "german-squad",
   "metadata": {},
   "outputs": [],
   "source": []
  },
  {
   "cell_type": "code",
   "execution_count": null,
   "id": "connected-cassette",
   "metadata": {},
   "outputs": [],
   "source": [
    "pct_bounds = np.array([0, 0.2, 0.4, 0.6, 0.8, 0.9, 0.99, 1.0])\n",
    "percentiles = mdf.weighted_quantile(df, 'cexpanded_income', 's006', pct_bounds)\n",
    "df['Percentile'] = pd.cut(df['expanded_income'], bins=percentiles)\n",
    "df_group = pd.DataFrame(mdf.weighted_mean(\n",
    "    df, ['aftertax_income', 'aftertax_income_ARPA'], w='s006', groupby='Percentile'))\n",
    "df_group.reset_index(inplace=True)\n",
    "df_group.plot(kind='line', alpha=1.0)\n",
    "# plt.ylim([0, 50000])"
   ]
  },
  {
   "cell_type": "code",
   "execution_count": null,
   "id": "abroad-funeral",
   "metadata": {},
   "outputs": [],
   "source": []
  }
 ],
 "metadata": {
  "kernelspec": {
   "display_name": "Python 3",
   "language": "python",
   "name": "python3"
  },
  "language_info": {
   "codemirror_mode": {
    "name": "ipython",
    "version": 3
   },
   "file_extension": ".py",
   "mimetype": "text/x-python",
   "name": "python",
   "nbconvert_exporter": "python",
   "pygments_lexer": "ipython3",
   "version": "3.11.8"
  }
 },
 "nbformat": 4,
 "nbformat_minor": 5
}
