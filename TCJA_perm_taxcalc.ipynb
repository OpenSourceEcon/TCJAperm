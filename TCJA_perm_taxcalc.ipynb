{
 "cells": [
  {
   "cell_type": "markdown",
   "id": "jewish-jumping",
   "metadata": {},
   "source": [
    "# TCJA Permanency Act\n",
    "To run this notebook, you need the following:\n",
    "1. Fork the repository https://github.com/OpenSourceEcon/TCJAperm and clone it to your local machine.\n",
    "2. Navigate to the `/TCJAperm/` directory in your terminal and create the `tcjaperm-dev` conda environment by typing: `conda env create -f environment.yml`\n",
    "3. Open the `TCJA_perm_taxcalc.ipynb` notebook and set the kernel in the notebook to the `tcjaperm-dev` conda environment.\n",
    "4. Execute the cells in the `TCJA_perm_taxcalc.ipynb` notebook.\n",
    "    * You will need to adjust the file path to the `puf.csv` file in code cell 2 and the path to the `TCJA_perm.json` file in code cell 3.\n",
    "    * If you do not have the IRS Public Use File, then you will need to use the CPS file included with Tax-Calculator. That code is commented out in cell 2."
   ]
  },
  {
   "cell_type": "code",
   "execution_count": 1,
   "id": "composite-while",
   "metadata": {},
   "outputs": [],
   "source": [
    "import pandas as pd\n",
    "import numpy as np\n",
    "from bokeh.plotting import figure, show\n",
    "from bokeh.io import output_notebook\n",
    "import taxcalc as tc\n",
    "import matplotlib.pyplot as plt"
   ]
  },
  {
   "cell_type": "code",
   "execution_count": 2,
   "id": "surprising-democracy",
   "metadata": {},
   "outputs": [],
   "source": [
    "puf_path = (\n",
    "    \"/Users/richardevans/Docs/Economics/OSE/Tax-Calculator/taxcalc/puf.csv\"\n",
    ")\n",
    "recs = tc.Records(data=puf_path)"
   ]
  },
  {
   "cell_type": "markdown",
   "id": "d2f0e958",
   "metadata": {},
   "source": [
    "## 1. Solve for total effect of the policy"
   ]
  },
  {
   "cell_type": "code",
   "execution_count": null,
   "id": "eccd73c1",
   "metadata": {},
   "outputs": [],
   "source": [
    "# If you need to use the CPS data file included with Tax-Calculator, comment\n",
    "# out the previous lines in this cell and uncomment the following line.\n",
    "# recs = tc.Records.cps_constructor()\n",
    "pol = tc.Policy()\n",
    "calc_base = tc.Calculator(policy=pol, records=recs)\n",
    "CYR = 2024\n",
    "calc_base.advance_to_year(CYR)\n",
    "calc_base.calc_all()\n",
    "itax_rev_base = calc_base.weighted_total('iitax')"
   ]
  },
  {
   "cell_type": "code",
   "execution_count": 3,
   "id": "cd7cb6a2",
   "metadata": {},
   "outputs": [],
   "source": [
    "reform_json_path = (\n",
    "    \"/Users/richardevans/Docs/Economics/OSE/TCJAperm/json/TCJA_perm.json\"\n",
    ")\n",
    "params_ref1 = pol.read_json_reform(reform_json_path)\n",
    "pol.implement_reform(params_ref1)\n",
    "calc_ref1 = tc.Calculator(policy=pol, records=recs)"
   ]
  },
  {
   "cell_type": "code",
   "execution_count": 4,
   "id": "supposed-magnitude",
   "metadata": {},
   "outputs": [],
   "source": [
    "# Compute annual revenue for each year in a 10 year budget window\n",
    "# Do this for with and without the ARPA\n",
    "rev_base = {'IIT': {}, 'Payroll': {}}\n",
    "rev_ref1 = {'IIT': {}, 'Payroll': {}}\n",
    "for t in range(2024, 2034):\n",
    "    calc_base.advance_to_year(t)\n",
    "    calc_base.calc_all()\n",
    "    calc_ref1.advance_to_year(t)\n",
    "    calc_ref1.calc_all()\n",
    "    rev_base['IIT'][t] = calc_base.weighted_total('iitax')\n",
    "    rev_base['Payroll'][t] = calc_base.weighted_total('payrolltax')\n",
    "    rev_ref1['IIT'][t] = calc_ref1.weighted_total('iitax')\n",
    "    rev_ref1['Payroll'][t] = calc_ref1.weighted_total('payrolltax')"
   ]
  },
  {
   "cell_type": "code",
   "execution_count": 5,
   "id": "abroad-samba",
   "metadata": {},
   "outputs": [
    {
     "data": {
      "text/html": [
       "<div>\n",
       "<style scoped>\n",
       "    .dataframe tbody tr th:only-of-type {\n",
       "        vertical-align: middle;\n",
       "    }\n",
       "\n",
       "    .dataframe tbody tr th {\n",
       "        vertical-align: top;\n",
       "    }\n",
       "\n",
       "    .dataframe thead th {\n",
       "        text-align: right;\n",
       "    }\n",
       "</style>\n",
       "<table border=\"1\" class=\"dataframe\">\n",
       "  <thead>\n",
       "    <tr style=\"text-align: right;\">\n",
       "      <th></th>\n",
       "      <th>2024</th>\n",
       "      <th>2025</th>\n",
       "      <th>2026</th>\n",
       "      <th>2027</th>\n",
       "      <th>2028</th>\n",
       "      <th>2029</th>\n",
       "      <th>2030</th>\n",
       "      <th>2031</th>\n",
       "      <th>2032</th>\n",
       "      <th>2033</th>\n",
       "      <th>2024-2033</th>\n",
       "    </tr>\n",
       "  </thead>\n",
       "  <tbody>\n",
       "    <tr>\n",
       "      <th>IIT</th>\n",
       "      <td>$0.000</td>\n",
       "      <td>$0.000</td>\n",
       "      <td>$-383.212</td>\n",
       "      <td>$-397.469</td>\n",
       "      <td>$-411.914</td>\n",
       "      <td>$-426.896</td>\n",
       "      <td>$-442.421</td>\n",
       "      <td>$-458.603</td>\n",
       "      <td>$-474.087</td>\n",
       "      <td>$-485.583</td>\n",
       "      <td>$-3480.186</td>\n",
       "    </tr>\n",
       "    <tr>\n",
       "      <th>Payroll</th>\n",
       "      <td>$0.000</td>\n",
       "      <td>$0.000</td>\n",
       "      <td>$0.000</td>\n",
       "      <td>$0.000</td>\n",
       "      <td>$0.000</td>\n",
       "      <td>$0.000</td>\n",
       "      <td>$0.000</td>\n",
       "      <td>$0.000</td>\n",
       "      <td>$0.000</td>\n",
       "      <td>$0.000</td>\n",
       "      <td>$0.000</td>\n",
       "    </tr>\n",
       "  </tbody>\n",
       "</table>\n",
       "</div>"
      ],
      "text/plain": [
       "          2024   2025      2026      2027      2028      2029      2030  \\\n",
       "IIT     $0.000 $0.000 $-383.212 $-397.469 $-411.914 $-426.896 $-442.421   \n",
       "Payroll $0.000 $0.000    $0.000    $0.000    $0.000    $0.000    $0.000   \n",
       "\n",
       "             2031      2032      2033  2024-2033  \n",
       "IIT     $-458.603 $-474.087 $-485.583 $-3480.186  \n",
       "Payroll    $0.000    $0.000    $0.000     $0.000  "
      ]
     },
     "execution_count": 5,
     "metadata": {},
     "output_type": "execute_result"
    }
   ],
   "source": [
    "# make table of revenue estimates\n",
    "rev_base_df = pd.DataFrame.from_dict(rev_base).T\n",
    "rev_ref1_df = pd.DataFrame.from_dict(rev_ref1).T\n",
    "diff_df = (rev_ref1_df - rev_base_df) * 1e-9  # in $ billions\n",
    "pd.options.display.float_format = '${:.3f}'.format\n",
    "diff_df['2024-2033'] = diff_df.sum(axis=1)\n",
    "# print(diff_df.to_latex())\n",
    "diff_df"
   ]
  },
  {
   "cell_type": "markdown",
   "id": "80fb0b01",
   "metadata": {},
   "source": [
    "## 2. Create decomposition of tax effects by category"
   ]
  },
  {
   "cell_type": "code",
   "execution_count": 12,
   "id": "e0d4cd77",
   "metadata": {},
   "outputs": [],
   "source": [
    "sec_ref1_list = [\n",
    "    (\n",
    "        \"Sec 1: (II_rt*, II_brk*, PT_rt*, PT_brk*, PT_qbid*)\",\n",
    "        {\n",
    "            \"II_rt2\": {\"2026\": 0.12},\n",
    "            \"II_rt3\": {\"2026\": 0.22},\n",
    "            \"II_rt4\": {\"2026\": 0.24},\n",
    "            \"II_rt5\": {\"2026\": 0.32},\n",
    "            \"II_rt7\": {\"2026\": 0.37},\n",
    "            \"II_brk1\": {\"2026\": [10275.0, 20550.0, 10275.0, 14650.0, 20550.0]},\n",
    "            \"II_brk2\": {\"2026\": [41775.0, 83550.0, 41775.0, 55900.0, 83550.0]},\n",
    "            \"II_brk3\": {\"2026\": [89075.0, 178150.0, 89075.0, 89050.0, 178150.0]},\n",
    "            \"II_brk4\": {\"2026\": [170050.0, 340100.0, 170050.0, 170050.0, 340100.0]},\n",
    "            \"II_brk5\": {\"2026\": [215950.0, 431900.0, 215950.0, 215950.0, 431900.0]},\n",
    "            \"II_brk6\": {\"2026\": [539900.0, 647850.0, 323925.0, 539900.0, 647850.0]},\n",
    "            \"PT_rt2\": {\"2026\": 0.12},\n",
    "            \"PT_rt3\": {\"2026\": 0.22},\n",
    "            \"PT_rt4\": {\"2026\": 0.24},\n",
    "            \"PT_rt5\": {\"2026\": 0.32},\n",
    "            \"PT_rt7\": {\"2026\": 0.37},\n",
    "            \"PT_brk1\": {\"2026\": [10275.0, 20550.0, 10275.0, 14650.0, 20550.0]},\n",
    "            \"PT_brk2\": {\"2026\": [41775.0, 83550.0, 41775.0, 55900.0, 83550.0]},\n",
    "            \"PT_brk3\": {\"2026\": [89075.0, 178150.0, 89075.0, 89050.0, 178150.0]},\n",
    "            \"PT_brk4\": {\"2026\": [170050.0, 340100.0, 170050.0, 170050.0, 340100.0]},\n",
    "            \"PT_brk5\": {\"2026\": [215950.0, 431900.0, 215950.0, 215950.0, 431900.0]},\n",
    "            \"PT_brk6\": {\"2026\": [539900.0, 647850.0, 323925.0, 539900.0, 647850.0]},\n",
    "            \"PT_qbid_rt\": {\"2026\": 0.2},\n",
    "            \"PT_qbid_taxinc_thd\": {\"2026\": [170050.0, 340100.0, 170050.0, 170050.0, 340100.0]},\n",
    "            \"PT_qbid_taxinc_gap\": {\"2026\": [50000.0, 100000.0, 50000.0, 50000.0, 100000.0]},\n",
    "            \"PT_qbid_w2_wages_rt\": {\"2026\": 0.5},\n",
    "            \"PT_qbid_alt_w2_wages_rt\": {\"2026\": 0.25},\n",
    "            \"PT_qbid_alt_property_rt\": {\"2026\": 0.025}\n",
    "        }\n",
    "    ),\n",
    "    (\n",
    "        \"Sec 2: (STD, ID_*)\",\n",
    "        {\n",
    "            \"STD\": {\"2026\": [12950.0, 25900.0, 12950.0, 19400.0, 25900.0]}\n",
    "        }\n",
    "    ),\n",
    "    (\n",
    "        \"Sec 3: (CTC_*, ACTC_*, ODC_c)\",\n",
    "        {\n",
    "            \"CTC_c\": {\"2026\": 2000.0},\n",
    "            \"CTC_ps\": {\"2026\": [200000.0, 400000.0, 200000.0, 200000.0, 400000.0]},\n",
    "            \"ACTC_c\": {\"2026\": 1600.0},\n",
    "            \"ODC_c\": {\"2026\": 500.0},\n",
    "            \"ACTC_Income_thd\": {\"2026\": 2500.0}\n",
    "        }\n",
    "    ),\n",
    "    (\n",
    "        \"Sec 4: (AMT_*)\",\n",
    "        {\n",
    "            \"AMT_em\": {\"2026\": [75900.0, 118100.0, 59050.0, 75900.0, 118100.0]},\n",
    "            \"AMT_em_ps\": {\"2026\": [539900.0, 1079800.0, 539900.0, 539900.0, 1079800.0]},\n",
    "            \"AMT_em_pe\": {\"2026\": 776100.0},\n",
    "        }\n",
    "    )\n",
    "]"
   ]
  },
  {
   "cell_type": "code",
   "execution_count": 13,
   "id": "0b4bebd8",
   "metadata": {},
   "outputs": [
    {
     "name": "stdout",
     "output_type": "stream",
     "text": [
      "\n",
      "Simulating baseline\n",
      "\n",
      "Simulating Sec 1: (II_rt*, II_brk*, PT_rt*, PT_brk*, PT_qbid*)\n",
      "      2024   2025      2026      2027      2028      2029      2030      2031  \\\n",
      "IIT $0.000 $0.000 $-143.121 $-149.832 $-156.407 $-162.981 $-169.666 $-176.234   \n",
      "\n",
      "         2032      2033  2024-2033  \n",
      "IIT $-181.282 $-189.343 $-1328.866  \n",
      "\n",
      "Simulating Sec 2: (STD, ID_*)\n",
      "      2024   2025     2026     2027     2028     2029     2030     2031  \\\n",
      "IIT $0.000 $0.000 $-70.694 $-72.944 $-75.368 $-77.979 $-80.766 $-83.784   \n",
      "\n",
      "        2032     2033  2024-2033  \n",
      "IIT $-86.502 $-88.491  $-636.529  \n",
      "\n",
      "Simulating Sec 3: (CTC_*, ACTC_*, ODC_c)\n",
      "      2024   2025     2026     2027     2028     2029     2030     2031  \\\n",
      "IIT $0.000 $0.000 $-79.175 $-79.926 $-80.646 $-81.479 $-82.144 $-82.753   \n",
      "\n",
      "        2032     2033  2024-2033  \n",
      "IIT $-83.272 $-83.764  $-653.159  \n",
      "\n",
      "Simulating Sec 4: (AMT_*)\n",
      "      2024   2025     2026     2027     2028      2029      2030      2031  \\\n",
      "IIT $0.000 $0.000 $-90.221 $-94.766 $-99.494 $-104.456 $-109.844 $-115.833   \n",
      "\n",
      "         2032      2033  2024-2033  \n",
      "IIT $-123.031 $-123.985  $-861.631  \n"
     ]
    },
    {
     "data": {
      "text/html": [
       "<div>\n",
       "<style scoped>\n",
       "    .dataframe tbody tr th:only-of-type {\n",
       "        vertical-align: middle;\n",
       "    }\n",
       "\n",
       "    .dataframe tbody tr th {\n",
       "        vertical-align: top;\n",
       "    }\n",
       "\n",
       "    .dataframe thead th {\n",
       "        text-align: right;\n",
       "    }\n",
       "</style>\n",
       "<table border=\"1\" class=\"dataframe\">\n",
       "  <thead>\n",
       "    <tr style=\"text-align: right;\">\n",
       "      <th></th>\n",
       "      <th>Provisions</th>\n",
       "      <th>2024</th>\n",
       "      <th>2025</th>\n",
       "      <th>2026</th>\n",
       "      <th>2027</th>\n",
       "      <th>2028</th>\n",
       "      <th>2029</th>\n",
       "      <th>2030</th>\n",
       "      <th>2031</th>\n",
       "      <th>2032</th>\n",
       "      <th>2033</th>\n",
       "      <th>2024-2033</th>\n",
       "    </tr>\n",
       "  </thead>\n",
       "  <tbody>\n",
       "    <tr>\n",
       "      <th>0</th>\n",
       "      <td>Sec 1: (II_rt*, II_brk*, PT_rt*, PT_brk*, PT_q...</td>\n",
       "      <td>$0.000</td>\n",
       "      <td>$0.000</td>\n",
       "      <td>$-143.121</td>\n",
       "      <td>$-149.832</td>\n",
       "      <td>$-156.407</td>\n",
       "      <td>$-162.981</td>\n",
       "      <td>$-169.666</td>\n",
       "      <td>$-176.234</td>\n",
       "      <td>$-181.282</td>\n",
       "      <td>$-189.343</td>\n",
       "      <td>$-1328.866</td>\n",
       "    </tr>\n",
       "    <tr>\n",
       "      <th>1</th>\n",
       "      <td>Sec 2: (STD, ID_*)</td>\n",
       "      <td>$0.000</td>\n",
       "      <td>$0.000</td>\n",
       "      <td>$-70.694</td>\n",
       "      <td>$-72.944</td>\n",
       "      <td>$-75.368</td>\n",
       "      <td>$-77.979</td>\n",
       "      <td>$-80.766</td>\n",
       "      <td>$-83.784</td>\n",
       "      <td>$-86.502</td>\n",
       "      <td>$-88.491</td>\n",
       "      <td>$-636.529</td>\n",
       "    </tr>\n",
       "    <tr>\n",
       "      <th>2</th>\n",
       "      <td>Sec 3: (CTC_*, ACTC_*, ODC_c)</td>\n",
       "      <td>$0.000</td>\n",
       "      <td>$0.000</td>\n",
       "      <td>$-79.175</td>\n",
       "      <td>$-79.926</td>\n",
       "      <td>$-80.646</td>\n",
       "      <td>$-81.479</td>\n",
       "      <td>$-82.144</td>\n",
       "      <td>$-82.753</td>\n",
       "      <td>$-83.272</td>\n",
       "      <td>$-83.764</td>\n",
       "      <td>$-653.159</td>\n",
       "    </tr>\n",
       "    <tr>\n",
       "      <th>3</th>\n",
       "      <td>Sec 4: (AMT_*)</td>\n",
       "      <td>$0.000</td>\n",
       "      <td>$0.000</td>\n",
       "      <td>$-90.221</td>\n",
       "      <td>$-94.766</td>\n",
       "      <td>$-99.494</td>\n",
       "      <td>$-104.456</td>\n",
       "      <td>$-109.844</td>\n",
       "      <td>$-115.833</td>\n",
       "      <td>$-123.031</td>\n",
       "      <td>$-123.985</td>\n",
       "      <td>$-861.631</td>\n",
       "    </tr>\n",
       "  </tbody>\n",
       "</table>\n",
       "</div>"
      ],
      "text/plain": [
       "                                          Provisions   2024   2025      2026  \\\n",
       "0  Sec 1: (II_rt*, II_brk*, PT_rt*, PT_brk*, PT_q... $0.000 $0.000 $-143.121   \n",
       "1                                 Sec 2: (STD, ID_*) $0.000 $0.000  $-70.694   \n",
       "2                      Sec 3: (CTC_*, ACTC_*, ODC_c) $0.000 $0.000  $-79.175   \n",
       "3                                     Sec 4: (AMT_*) $0.000 $0.000  $-90.221   \n",
       "\n",
       "       2027      2028      2029      2030      2031      2032      2033  \\\n",
       "0 $-149.832 $-156.407 $-162.981 $-169.666 $-176.234 $-181.282 $-189.343   \n",
       "1  $-72.944  $-75.368  $-77.979  $-80.766  $-83.784  $-86.502  $-88.491   \n",
       "2  $-79.926  $-80.646  $-81.479  $-82.144  $-82.753  $-83.272  $-83.764   \n",
       "3  $-94.766  $-99.494 $-104.456 $-109.844 $-115.833 $-123.031 $-123.985   \n",
       "\n",
       "   2024-2033  \n",
       "0 $-1328.866  \n",
       "1  $-636.529  \n",
       "2  $-653.159  \n",
       "3  $-861.631  "
      ]
     },
     "execution_count": 13,
     "metadata": {},
     "output_type": "execute_result"
    }
   ],
   "source": [
    "# Create blank pandas dataframe with columns [\"Provisions\", \"2024\", \"2025\",..., \"2033\", \"2024-2033\"]\n",
    "diff_seq_df = pd.DataFrame(\n",
    "    columns=[\n",
    "        \"Provisions\", \"2024\", \"2025\", \"2026\", \"2027\", \"2028\", \"2029\", \"2030\",\n",
    "        \"2031\", \"2032\", \"2033\", \"2024-2033\"\n",
    "    ]\n",
    ")\n",
    "\n",
    "print(\"\")\n",
    "print(\"Simulating baseline\")\n",
    "pol = tc.Policy()\n",
    "calc_base = tc.Calculator(policy=pol, records=recs)\n",
    "CYR = 2024\n",
    "calc_base.advance_to_year(CYR)\n",
    "calc_base.calc_all()\n",
    "rev_base = {'IIT': {}}\n",
    "for t in range(2024, 2034):\n",
    "    calc_base.advance_to_year(t)\n",
    "    calc_base.calc_all()\n",
    "    rev_base['IIT'][str(t)] = calc_base.weighted_total('iitax')\n",
    "\n",
    "rev_base_df = pd.DataFrame.from_dict(rev_base).T\n",
    "\n",
    "# Simulate each reform\n",
    "for i,tpl in enumerate(sec_ref1_list):\n",
    "    print(\"\")\n",
    "    print(\"Simulating \" + tpl[0])\n",
    "    params_ref = pol.read_json_reform(tpl[1])\n",
    "    pol.implement_reform(params_ref)\n",
    "    calc_ref = tc.Calculator(policy=pol, records=recs)\n",
    "\n",
    "    rev_ref = {'IIT': {}}\n",
    "    for t in range(2024, 2034):\n",
    "        calc_ref.advance_to_year(t)\n",
    "        calc_ref.calc_all()\n",
    "        rev_ref['IIT'][str(t)] = calc_ref.weighted_total('iitax')\n",
    "\n",
    "    rev_ref_df = pd.DataFrame.from_dict(rev_ref).T\n",
    "    diff_sec_df = (rev_ref_df - rev_base_df) * 1e-9  # in $ billions\n",
    "    pd.options.display.float_format = '${:.3f}'.format\n",
    "    diff_sec_df['2024-2033'] = diff_sec_df.sum(axis=1)\n",
    "    print(diff_sec_df)\n",
    "    diff_seq_df.loc[i, \"Provisions\"] = tpl[0]\n",
    "    numeric_columns = [\n",
    "        \"2024\", \"2025\", \"2026\", \"2027\", \"2028\", \"2029\", \"2030\", \"2031\", \"2032\",\n",
    "        \"2033\", \"2024-2033\"\n",
    "    ]\n",
    "    for col in numeric_columns:\n",
    "        diff_seq_df.loc[i, col] = diff_sec_df.loc[\"IIT\", col]\n",
    "\n",
    "    rev_base_df = rev_ref_df.copy()\n",
    "\n",
    "diff_seq_df"
   ]
  },
  {
   "cell_type": "code",
   "execution_count": 14,
   "id": "dd97c302",
   "metadata": {},
   "outputs": [
    {
     "data": {
      "text/plain": [
       "Provisions    Sec 1: (II_rt*, II_brk*, PT_rt*, PT_brk*, PT_q...\n",
       "2024                                                     $0.000\n",
       "2025                                                     $0.000\n",
       "2026                                                  $-383.212\n",
       "2027                                                  $-397.469\n",
       "2028                                                  $-411.914\n",
       "2029                                                  $-426.896\n",
       "2030                                                  $-442.421\n",
       "2031                                                  $-458.603\n",
       "2032                                                  $-474.087\n",
       "2033                                                  $-485.583\n",
       "2024-2033                                            $-3480.186\n",
       "dtype: object"
      ]
     },
     "execution_count": 14,
     "metadata": {},
     "output_type": "execute_result"
    }
   ],
   "source": [
    "diff_seq_df.sum(axis=0)"
   ]
  },
  {
   "cell_type": "markdown",
   "id": "523d6c17",
   "metadata": {},
   "source": [
    "## 3. Create average effective tax rates plot for 2026"
   ]
  },
  {
   "cell_type": "code",
   "execution_count": 9,
   "id": "3677d8bb",
   "metadata": {},
   "outputs": [],
   "source": [
    "# Restart calculation to get back to 2026\n",
    "pol_2026 = tc.Policy()\n",
    "calc_base_2026 = tc.Calculator(policy=pol_2026, records=recs)\n",
    "pol_2026.implement_reform(params_ref1)\n",
    "calc_ref1_2026 = tc.Calculator(policy=pol_2026, records=recs)\n",
    "calc_base_2026.advance_to_year(2026)\n",
    "calc_ref1_2026.advance_to_year(2026)\n",
    "calc_base_2026.calc_all()\n",
    "calc_ref1_2026.calc_all()\n",
    "\n",
    "# get data for plots\n",
    "mars = 'ALL'\n",
    "mtr_wrt_full_compen = True\n",
    "record_variables = ['s006', 'XTOT']\n",
    "if mars != 'ALL':\n",
    "    record_variables.append('MARS')\n",
    "record_variables.append('expanded_income')\n",
    "record_variables.append('e00200')\n",
    "vdf = calc_base_2026.dataframe(record_variables)\n",
    "# create 'tax1' and 'tax2' columns given specified atr_measure\n",
    "vdf['tax1'] = calc_base_2026.array('iitax')\n",
    "vdf['tax2'] = calc_ref1_2026.array('iitax')\n",
    "# compute mtrs for mtr plot data\n",
    "(mtr_base_ptax, mtr_base_itax, mtr_base_combined) = calc_base_2026.mtr(\n",
    "    variable_str='e00200p', wrt_full_compensation=mtr_wrt_full_compen\n",
    ")\n",
    "(mtr_ref1_ptax, mtr_ref1_itax, mtr_ref1_combined) = calc_ref1_2026.mtr(\n",
    "    variable_str='e00200p', wrt_full_compensation=mtr_wrt_full_compen\n",
    ")\n",
    "vdf['mtr1'] = mtr_base_itax\n",
    "vdf['mtr2'] = mtr_ref1_itax\n",
    "\n",
    "mtr_data = tc.calculator.mtr_graph_data(vdf,\n",
    "                              year=2026,\n",
    "                              mars=mars,\n",
    "                              mtr_measure='itax',\n",
    "                              alt_e00200p_text='This text',\n",
    "                              mtr_wrt_full_compen=True,\n",
    "                              income_measure='expanded_income',\n",
    "                              pop_quantiles=True,\n",
    "                              dollar_weighting=False)\n",
    "\n",
    "atr_data = tc.calculator.atr_graph_data(vdf,\n",
    "                              year=2026,\n",
    "                              mars=mars,\n",
    "                              atr_measure='itax',\n",
    "                              pop_quantiles=True)"
   ]
  },
  {
   "cell_type": "code",
   "execution_count": 10,
   "id": "3d58fbca",
   "metadata": {},
   "outputs": [
    {
     "data": {
      "image/png": "[encoded data removed]",
      "text/plain": [
       "<Figure size 640x480 with 1 Axes>"
      ]
     },
     "metadata": {},
     "output_type": "display_data"
    }
   ],
   "source": [
    "plt.plot(mtr_data['lines'].index, mtr_data['lines'].base.values, label='Expiring TCJA')\n",
    "plt.plot(mtr_data['lines'].index, mtr_data['lines'].reform.values, label='TCJA made permanent')\n",
    "plt.xlabel('Income Percentile')\n",
    "plt.ylabel('Marginal Tax Rate on Employment Income')\n",
    "plt.legend(loc=9, bbox_to_anchor=(0.5, -0.15), ncol=2)\n",
    "plt.savefig('images/tcja_perm_mtr_plot.png', bbox_inches='tight')"
   ]
  },
  {
   "cell_type": "code",
   "execution_count": 15,
   "id": "e0dcc730",
   "metadata": {},
   "outputs": [
    {
     "data": {
      "image/png": "[encoded data removed]",
      "text/plain": [
       "<Figure size 640x480 with 1 Axes>"
      ]
     },
     "metadata": {},
     "output_type": "display_data"
    }
   ],
   "source": [
    "plt.plot(atr_data['lines'].index, atr_data['lines'].base.values, label='Expiring TCJA')\n",
    "plt.plot(atr_data['lines'].index, atr_data['lines'].reform.values, label='TCJA made permanent')\n",
    "plt.grid(which=\"major\", color=\"lightgray\", linestyle=\"--\")\n",
    "plt.xlabel('Income Percentile')\n",
    "plt.ylabel('Average Tax Rate on Employment Income')\n",
    "plt.legend(loc=9, bbox_to_anchor=(0.5, -0.15), ncol=2)\n",
    "plt.savefig('images/tcja_perm_atr_plot.png', bbox_inches='tight')"
   ]
  },
  {
   "cell_type": "markdown",
   "id": "atomic-throat",
   "metadata": {},
   "source": [
    "# Distributional results\n",
    "\n",
    "See below + table by Cody"
   ]
  },
  {
   "cell_type": "code",
   "execution_count": null,
   "id": "dedicated-navigator",
   "metadata": {},
   "outputs": [],
   "source": [
    "# Restart calculation to get back to first year\n",
    "pol = taxcalc.policy.Policy()\n",
    "tc_base = taxcalc.calculator.Calculator(policy=pol, records=rec)\n",
    "pol.implement_reform(ref)\n",
    "tc_arpa = taxcalc.calculator.Calculator(policy=pol, records=rec)\n",
    "tc_base.advance_to_year(2021)\n",
    "tc_arpa.advance_to_year(2021)\n",
    "tc_base.calc_all()\n",
    "tc_arpa.calc_all()\n",
    "\n",
    "# get data for plots\n",
    "mars = 'ALL'\n",
    "mtr_wrt_full_compen = True\n",
    "record_variables = ['s006', 'XTOT']\n",
    "if mars != 'ALL':\n",
    "    record_variables.append('MARS')\n",
    "record_variables.append('expanded_income')\n",
    "record_variables.append('e00200')\n",
    "vdf = tc_base.dataframe(record_variables)\n",
    "# create 'tax1' and 'tax2' columns given specified atr_measure\n",
    "vdf['tax1'] = tc_base.array('iitax')\n",
    "vdf['tax2'] = tc_arpa.array('iitax')\n",
    "# compute mtrs for mtr plot data\n",
    "(mtr1_ptax, mtr1_itax, mtr1_combined) = tc_base.mtr(\n",
    "    variable_str='e00200p', wrt_full_compensation=mtr_wrt_full_compen)\n",
    "(mtr2_ptax, mtr2_itax, mtr2_combined) = tc_arpa.mtr(\n",
    "    variable_str='e00200p', wrt_full_compensation=mtr_wrt_full_compen)\n",
    "vdf['mtr1'] = mtr1_itax\n",
    "vdf['mtr2'] = mtr2_itax\n",
    "\n",
    "mtr_data = taxcalc.calculator.mtr_graph_data(vdf,\n",
    "                              year=2021,\n",
    "                              mars=mars,\n",
    "                              mtr_measure='itax',\n",
    "                              alt_e00200p_text='This text',\n",
    "                              mtr_wrt_full_compen=True,\n",
    "                              income_measure='expanded_income',\n",
    "                              pop_quantiles=True,\n",
    "                              dollar_weighting=False)\n",
    "atr_data = taxcalc.calculator.atr_graph_data(vdf,\n",
    "                              year=2021,\n",
    "                              mars=mars,\n",
    "                              atr_measure='itax',\n",
    "                              pop_quantiles=True)"
   ]
  },
  {
   "cell_type": "code",
   "execution_count": null,
   "id": "healthy-newton",
   "metadata": {},
   "outputs": [],
   "source": [
    "plt.plot(mtr_data['lines'].index, mtr_data['lines'].base.values, label='Pre-ARPA')\n",
    "plt.plot(mtr_data['lines'].index, mtr_data['lines'].reform.values, label='Post-ARPA')\n",
    "plt.xlabel('Income Percentile')\n",
    "plt.ylabel('Marginal Tax Rate on Wage Income')\n",
    "plt.legend(loc=9, bbox_to_anchor=(0.5, -0.15), ncol=2)\n",
    "plt.savefig('arpa_mtr_plot.png', bbox_inches='tight')"
   ]
  },
  {
   "cell_type": "code",
   "execution_count": null,
   "id": "incorrect-session",
   "metadata": {},
   "outputs": [],
   "source": [
    "plt.plot(atr_data['lines'].index, atr_data['lines'].base.values, label='Pre-ARPA')\n",
    "plt.plot(atr_data['lines'].index, atr_data['lines'].reform.values, label='Post-ARPA')\n",
    "plt.xlabel('Income Percentile')\n",
    "plt.ylabel('Average Tax Rate')\n",
    "plt.legend(loc=9, bbox_to_anchor=(0.5, -0.15), ncol=2)\n",
    "plt.savefig('arpa_atr_plot.png', bbox_inches='tight')"
   ]
  },
  {
   "cell_type": "markdown",
   "id": "brave-gravity",
   "metadata": {},
   "source": [
    "# Tax benefits by family size"
   ]
  },
  {
   "cell_type": "code",
   "execution_count": null,
   "id": "numerical-subject",
   "metadata": {},
   "outputs": [],
   "source": [
    "df = tc_base.dataframe(['nu18', 'XTOT', 'iitax', 'c00100', 's006', 'aftertax_income', 'expanded_income'])\n",
    "df['ARPA_iitax'] = tc_arpa.array('iitax')\n",
    "df['tax_change'] = df['ARPA_iitax'] - df['iitax']\n",
    "df['aftertax_income_ARPA'] = tc_arpa.array('aftertax_income')\n",
    "df.groupby('nu18')[['s006', 'XTOT']].sum()"
   ]
  },
  {
   "cell_type": "code",
   "execution_count": null,
   "id": "focused-nicaragua",
   "metadata": {},
   "outputs": [],
   "source": [
    "mdf.weighted_mean(df, 'nu18', 's006')"
   ]
  },
  {
   "cell_type": "code",
   "execution_count": null,
   "id": "australian-protein",
   "metadata": {},
   "outputs": [],
   "source": [
    "decile_bounds = np.arange(0, 1.1, 0.1)\n",
    "deciles = mdf.weighted_quantile(df, 'c00100', 's006', decile_bounds)\n",
    "quintile_bounds = np.arange(0, 1.2, 0.2)\n",
    "quintiles = mdf.weighted_quantile(df, 'c00100', 's006', quintile_bounds)"
   ]
  },
  {
   "cell_type": "code",
   "execution_count": null,
   "id": "subject-virgin",
   "metadata": {},
   "outputs": [],
   "source": [
    "df_group = mdf.weighted_mean(df, 'tax_change', w='s006', groupby=['nu18'])\n",
    "df_group.plot.bar()"
   ]
  },
  {
   "cell_type": "code",
   "execution_count": null,
   "id": "empty-parameter",
   "metadata": {},
   "outputs": [],
   "source": [
    "from cycler import cycler\n",
    "from cycler import cycler\n",
    "N = 7\n",
    "plt.rcParams[\"axes.prop_cycle\"] = plt.cycler(\"color\", plt.cm.Blues(np.linspace(0.2,1,N)))\n",
    "\n",
    "\n",
    "df['quintiles'] = pd.cut(df['expanded_income'], bins=quintiles, labels=np.arange(1,6).tolist())\n",
    "df_group = pd.DataFrame(mdf.weighted_mean(df, 'tax_change', w='s006', groupby=['nu18', 'quintiles']))\n",
    "# df_group.plot.bar()\n",
    "df_group.reset_index(inplace=True)\n",
    "df_group.rename(columns={0: 'Average Change in Taxes', 'nu18': 'Number of Children', 'quintiles': 'Income Quintiles'}, inplace=True)\n",
    "df_group['Number of Children'] = df_group['Number of Children'].astype('int64')\n",
    "ax1 = df_group.pivot(\"Income Quintiles\", \"Number of Children\", \"Average Change in Taxes\").plot(kind='bar', alpha=1.0)\n",
    "plt.ylabel('Mean Tax Change')\n",
    "plt.xticks(rotation = 0)\n",
    "plt.legend(title='Number of Children', loc=9, bbox_to_anchor=(0.5, -0.15), ncol=3)\n",
    "plt.savefig('bar_plot_by_kids.png', bbox_inches='tight')"
   ]
  },
  {
   "cell_type": "code",
   "execution_count": null,
   "id": "large-apache",
   "metadata": {},
   "outputs": [],
   "source": [
    "df.drop(df[df['expanded_income'] < 0].index, inplace=True)\n",
    "percentile_bounds = np.arange(0, 1.01, 0.01)\n",
    "percentiles = mdf.weighted_quantile(df, 'expanded_income', 's006', percentile_bounds)\n",
    "df['Percentile'] = pd.cut(df['expanded_income'], bins=percentiles, labels=np.arange(1,101).tolist())\n",
    "df_group = pd.DataFrame(mdf.weighted_mean(\n",
    "    df, ['aftertax_income', 'aftertax_income_ARPA'], w='s006', groupby='Percentile'))\n",
    "df_group.reset_index(inplace=True)\n",
    "df_group.plot(kind='line', alpha=1.0)\n",
    "plt.ylim([0, 50000])\n",
    "# plt.ylabel('Mean Tax Change')\n",
    "# plt.xticks(rotation = 0)\n",
    "# plt.legend(title='Number of Children', loc=9, bbox_to_anchor=(0.5, -0.15), ncol=3)\n",
    "# plt.savefig('bar_plot_by_kids.png', bbox_inches='tight')\n"
   ]
  },
  {
   "cell_type": "code",
   "execution_count": null,
   "id": "electrical-offering",
   "metadata": {},
   "outputs": [],
   "source": [
    "df_group"
   ]
  },
  {
   "cell_type": "code",
   "execution_count": null,
   "id": "square-following",
   "metadata": {},
   "outputs": [],
   "source": [
    "decile_bounds = np.arange(0, 1.1, 0.1)"
   ]
  },
  {
   "cell_type": "code",
   "execution_count": null,
   "id": "german-squad",
   "metadata": {},
   "outputs": [],
   "source": []
  },
  {
   "cell_type": "code",
   "execution_count": null,
   "id": "connected-cassette",
   "metadata": {},
   "outputs": [],
   "source": [
    "pct_bounds = np.array([0, 0.2, 0.4, 0.6, 0.8, 0.9, 0.99, 1.0])\n",
    "percentiles = mdf.weighted_quantile(df, 'cexpanded_income', 's006', pct_bounds)\n",
    "df['Percentile'] = pd.cut(df['expanded_income'], bins=percentiles)\n",
    "df_group = pd.DataFrame(mdf.weighted_mean(\n",
    "    df, ['aftertax_income', 'aftertax_income_ARPA'], w='s006', groupby='Percentile'))\n",
    "df_group.reset_index(inplace=True)\n",
    "df_group.plot(kind='line', alpha=1.0)\n",
    "# plt.ylim([0, 50000])"
   ]
  },
  {
   "cell_type": "code",
   "execution_count": null,
   "id": "abroad-funeral",
   "metadata": {},
   "outputs": [],
   "source": []
  }
 ],
 "metadata": {
  "kernelspec": {
   "display_name": "Python 3",
   "language": "python",
   "name": "python3"
  },
  "language_info": {
   "codemirror_mode": {
    "name": "ipython",
    "version": 3
   },
   "file_extension": ".py",
   "mimetype": "text/x-python",
   "name": "python",
   "nbconvert_exporter": "python",
   "pygments_lexer": "ipython3",
   "version": "3.11.8"
  }
 },
 "nbformat": 4,
 "nbformat_minor": 5
}
