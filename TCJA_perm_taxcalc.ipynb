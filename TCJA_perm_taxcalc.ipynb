{
 "cells": [
  {
   "cell_type": "markdown",
   "id": "jewish-jumping",
   "metadata": {},
   "source": [
    "# Analysis of the ARPA for a possible QN"
   ]
  },
  {
   "cell_type": "code",
   "execution_count": 3,
   "id": "composite-while",
   "metadata": {},
   "outputs": [],
   "source": [
    "import pandas as pd\n",
    "import numpy as np\n",
    "from bokeh.plotting import figure, show\n",
    "from bokeh.io import output_notebook\n",
    "import taxcalc as tc\n",
    "import matplotlib.pyplot as plt"
   ]
  },
  {
   "cell_type": "code",
   "execution_count": 4,
   "id": "surprising-democracy",
   "metadata": {},
   "outputs": [],
   "source": [
    "puf_path = (\n",
    "    \"/Users/richardevans/Docs/Economics/OSE/Tax-Calculator/taxcalc/puf.csv\"\n",
    ")\n",
    "recs = tc.Records(data=puf_path)\n",
    "pol_base = tc.Policy()\n",
    "calc_base = tc.Calculator(policy=pol_base, records=recs)\n",
    "CYR = 2024\n",
    "calc_base.advance_to_year(CYR)\n",
    "calc_base.calc_all()\n",
    "itax_rev_base = calc_base.weighted_total('iitax')"
   ]
  },
  {
   "cell_type": "code",
   "execution_count": null,
   "id": "cd7cb6a2",
   "metadata": {},
   "outputs": [],
   "source": []
  },
  {
   "cell_type": "code",
   "execution_count": null,
   "id": "c6141109",
   "metadata": {},
   "outputs": [],
   "source": [
    "rec = taxcalc.records.Records(data=puf_path)\n",
    "tc_base = taxcalc.calculator.Calculator(policy=pol, records=rec)\n",
    "ref = pol.read_json_reform('../taxcalc/ARPA.json')\n",
    "pol.implement_reform(ref)\n",
    "tc_arpa = taxcalc.calculator.Calculator(policy=pol, records=rec)"
   ]
  },
  {
   "cell_type": "code",
   "execution_count": 8,
   "id": "supposed-magnitude",
   "metadata": {},
   "outputs": [],
   "source": [
    "# Compute annual revenue for each year in a 10 year budget window\n",
    "# Do this for with and without the ARPA\n",
    "rev_base = {'IIT': {}, 'Payroll': {}}\n",
    "rev_arpa = {'IIT': {}, 'Payroll': {}}\n",
    "for t in range(2024, 2034):\n",
    "    tc_base.advance_to_year(t)\n",
    "    tc_base.calc_all()\n",
    "    tc_arpa.advance_to_year(t)\n",
    "    tc_arpa.calc_all()\n",
    "    rev_base['IIT'][t] = tc_base.weighted_total('iitax')\n",
    "    rev_base['Payroll'][t] = tc_base.weighted_total('payrolltax')\n",
    "    rev_arpa['IIT'][t] = tc_arpa.weighted_total('iitax')\n",
    "    rev_arpa['Payroll'][t] = tc_arpa.weighted_total('payrolltax')"
   ]
  },
  {
   "cell_type": "code",
   "execution_count": 9,
   "id": "abroad-samba",
   "metadata": {},
   "outputs": [
    {
     "data": {
      "text/html": [
       "<div>\n",
       "<style scoped>\n",
       "    .dataframe tbody tr th:only-of-type {\n",
       "        vertical-align: middle;\n",
       "    }\n",
       "\n",
       "    .dataframe tbody tr th {\n",
       "        vertical-align: top;\n",
       "    }\n",
       "\n",
       "    .dataframe thead th {\n",
       "        text-align: right;\n",
       "    }\n",
       "</style>\n",
       "<table border=\"1\" class=\"dataframe\">\n",
       "  <thead>\n",
       "    <tr style=\"text-align: right;\">\n",
       "      <th></th>\n",
       "      <th>2020</th>\n",
       "      <th>2021</th>\n",
       "      <th>2022</th>\n",
       "      <th>2023</th>\n",
       "      <th>2024</th>\n",
       "      <th>2025</th>\n",
       "      <th>2026</th>\n",
       "      <th>2027</th>\n",
       "      <th>2028</th>\n",
       "      <th>2029</th>\n",
       "      <th>2030</th>\n",
       "      <th>2021-2030</th>\n",
       "    </tr>\n",
       "  </thead>\n",
       "  <tbody>\n",
       "    <tr>\n",
       "      <th>IIT</th>\n",
       "      <td>$-1.229</td>\n",
       "      <td>$-513.430</td>\n",
       "      <td>$-0.285</td>\n",
       "      <td>$-0.307</td>\n",
       "      <td>$-0.331</td>\n",
       "      <td>$-0.342</td>\n",
       "      <td>$14.878</td>\n",
       "      <td>$-0.369</td>\n",
       "      <td>$-0.376</td>\n",
       "      <td>$-0.383</td>\n",
       "      <td>$-0.394</td>\n",
       "      <td>$-502.568</td>\n",
       "    </tr>\n",
       "    <tr>\n",
       "      <th>Payroll</th>\n",
       "      <td>$0.000</td>\n",
       "      <td>$0.000</td>\n",
       "      <td>$0.000</td>\n",
       "      <td>$0.000</td>\n",
       "      <td>$0.000</td>\n",
       "      <td>$0.000</td>\n",
       "      <td>$0.000</td>\n",
       "      <td>$0.000</td>\n",
       "      <td>$0.000</td>\n",
       "      <td>$0.000</td>\n",
       "      <td>$0.000</td>\n",
       "      <td>$0.000</td>\n",
       "    </tr>\n",
       "  </tbody>\n",
       "</table>\n",
       "</div>"
      ],
      "text/plain": [
       "           2020      2021    2022    2023    2024    2025    2026    2027  \\\n",
       "IIT     $-1.229 $-513.430 $-0.285 $-0.307 $-0.331 $-0.342 $14.878 $-0.369   \n",
       "Payroll  $0.000    $0.000  $0.000  $0.000  $0.000  $0.000  $0.000  $0.000   \n",
       "\n",
       "           2028    2029    2030  2021-2030  \n",
       "IIT     $-0.376 $-0.383 $-0.394  $-502.568  \n",
       "Payroll  $0.000  $0.000  $0.000     $0.000  "
      ]
     },
     "execution_count": 9,
     "metadata": {},
     "output_type": "execute_result"
    }
   ],
   "source": [
    "# make table of revenue estimates\n",
    "rev_base_df = pd.DataFrame.from_dict(rev_base).T\n",
    "rev_arpa_df = pd.DataFrame.from_dict(rev_arpa).T\n",
    "diff_df = (rev_arpa_df - rev_base_df) * 1e-9\n",
    "pd.options.display.float_format = '${:.3f}'.format\n",
    "diff_df['2021-2030'] = diff_df.sum(axis=1)\n",
    "# print(diff_df.to_latex())\n",
    "diff_df"
   ]
  },
  {
   "cell_type": "markdown",
   "id": "atomic-throat",
   "metadata": {},
   "source": [
    "# Distributional results\n",
    "\n",
    "See below + table by Cody"
   ]
  },
  {
   "cell_type": "code",
   "execution_count": 153,
   "id": "dedicated-navigator",
   "metadata": {},
   "outputs": [],
   "source": [
    "# Restart calculation to get back to first year\n",
    "pol = taxcalc.policy.Policy()\n",
    "tc_base = taxcalc.calculator.Calculator(policy=pol, records=rec)\n",
    "pol.implement_reform(ref)\n",
    "tc_arpa = taxcalc.calculator.Calculator(policy=pol, records=rec)\n",
    "tc_base.advance_to_year(2021)\n",
    "tc_arpa.advance_to_year(2021)\n",
    "tc_base.calc_all()\n",
    "tc_arpa.calc_all()\n",
    "\n",
    "# get data for plots\n",
    "mars = 'ALL'\n",
    "mtr_wrt_full_compen = True\n",
    "record_variables = ['s006', 'XTOT']\n",
    "if mars != 'ALL':\n",
    "    record_variables.append('MARS')\n",
    "record_variables.append('expanded_income')\n",
    "record_variables.append('e00200')\n",
    "vdf = tc_base.dataframe(record_variables)\n",
    "# create 'tax1' and 'tax2' columns given specified atr_measure\n",
    "vdf['tax1'] = tc_base.array('iitax')\n",
    "vdf['tax2'] = tc_arpa.array('iitax')\n",
    "# compute mtrs for mtr plot data\n",
    "(mtr1_ptax, mtr1_itax, mtr1_combined) = tc_base.mtr(\n",
    "    variable_str='e00200p', wrt_full_compensation=mtr_wrt_full_compen)\n",
    "(mtr2_ptax, mtr2_itax, mtr2_combined) = tc_arpa.mtr(\n",
    "    variable_str='e00200p', wrt_full_compensation=mtr_wrt_full_compen)\n",
    "vdf['mtr1'] = mtr1_itax\n",
    "vdf['mtr2'] = mtr2_itax\n",
    "\n",
    "mtr_data = taxcalc.calculator.mtr_graph_data(vdf,\n",
    "                              year=2021,\n",
    "                              mars=mars,\n",
    "                              mtr_measure='itax',\n",
    "                              alt_e00200p_text='This text',\n",
    "                              mtr_wrt_full_compen=True,\n",
    "                              income_measure='expanded_income',\n",
    "                              pop_quantiles=True,\n",
    "                              dollar_weighting=False)\n",
    "atr_data = taxcalc.calculator.atr_graph_data(vdf,\n",
    "                              year=2021,\n",
    "                              mars=mars,\n",
    "                              atr_measure='itax',\n",
    "                              pop_quantiles=True)"
   ]
  },
  {
   "cell_type": "code",
   "execution_count": 150,
   "id": "healthy-newton",
   "metadata": {},
   "outputs": [
    {
     "data": {
      "image/png": "[encoded data removed]",
      "text/plain": [
       "<Figure size 432x288 with 1 Axes>"
      ]
     },
     "metadata": {
      "needs_background": "light"
     },
     "output_type": "display_data"
    }
   ],
   "source": [
    "plt.plot(mtr_data['lines'].index, mtr_data['lines'].base.values, label='Pre-ARPA')\n",
    "plt.plot(mtr_data['lines'].index, mtr_data['lines'].reform.values, label='Post-ARPA')\n",
    "plt.xlabel('Income Percentile')\n",
    "plt.ylabel('Marginal Tax Rate on Wage Income')\n",
    "plt.legend(loc=9, bbox_to_anchor=(0.5, -0.15), ncol=2)\n",
    "plt.savefig('arpa_mtr_plot.png', bbox_inches='tight')"
   ]
  },
  {
   "cell_type": "code",
   "execution_count": 151,
   "id": "incorrect-session",
   "metadata": {},
   "outputs": [
    {
     "data": {
      "image/png": "[encoded data removed]",
      "text/plain": [
       "<Figure size 432x288 with 1 Axes>"
      ]
     },
     "metadata": {
      "needs_background": "light"
     },
     "output_type": "display_data"
    }
   ],
   "source": [
    "plt.plot(atr_data['lines'].index, atr_data['lines'].base.values, label='Pre-ARPA')\n",
    "plt.plot(atr_data['lines'].index, atr_data['lines'].reform.values, label='Post-ARPA')\n",
    "plt.xlabel('Income Percentile')\n",
    "plt.ylabel('Average Tax Rate')\n",
    "plt.legend(loc=9, bbox_to_anchor=(0.5, -0.15), ncol=2)\n",
    "plt.savefig('arpa_atr_plot.png', bbox_inches='tight')"
   ]
  },
  {
   "cell_type": "markdown",
   "id": "brave-gravity",
   "metadata": {},
   "source": [
    "# Tax benefits by family size"
   ]
  },
  {
   "cell_type": "code",
   "execution_count": 154,
   "id": "numerical-subject",
   "metadata": {},
   "outputs": [
    {
     "data": {
      "text/html": [
       "<div>\n",
       "<style scoped>\n",
       "    .dataframe tbody tr th:only-of-type {\n",
       "        vertical-align: middle;\n",
       "    }\n",
       "\n",
       "    .dataframe tbody tr th {\n",
       "        vertical-align: top;\n",
       "    }\n",
       "\n",
       "    .dataframe thead th {\n",
       "        text-align: right;\n",
       "    }\n",
       "</style>\n",
       "<table border=\"1\" class=\"dataframe\">\n",
       "  <thead>\n",
       "    <tr style=\"text-align: right;\">\n",
       "      <th></th>\n",
       "      <th>s006</th>\n",
       "      <th>XTOT</th>\n",
       "    </tr>\n",
       "    <tr>\n",
       "      <th>nu18</th>\n",
       "      <th></th>\n",
       "      <th></th>\n",
       "    </tr>\n",
       "  </thead>\n",
       "  <tbody>\n",
       "    <tr>\n",
       "      <th>$0.000</th>\n",
       "      <td>$126133140.040</td>\n",
       "      <td>$231598.000</td>\n",
       "    </tr>\n",
       "    <tr>\n",
       "      <th>$1.000</th>\n",
       "      <td>$29116910.620</td>\n",
       "      <td>$107256.000</td>\n",
       "    </tr>\n",
       "    <tr>\n",
       "      <th>$2.000</th>\n",
       "      <td>$17372053.900</td>\n",
       "      <td>$122138.000</td>\n",
       "    </tr>\n",
       "    <tr>\n",
       "      <th>$3.000</th>\n",
       "      <td>$6989282.220</td>\n",
       "      <td>$69597.000</td>\n",
       "    </tr>\n",
       "    <tr>\n",
       "      <th>$4.000</th>\n",
       "      <td>$152799.210</td>\n",
       "      <td>$1040.000</td>\n",
       "    </tr>\n",
       "    <tr>\n",
       "      <th>$5.000</th>\n",
       "      <td>$19957.650</td>\n",
       "      <td>$92.000</td>\n",
       "    </tr>\n",
       "    <tr>\n",
       "      <th>$6.000</th>\n",
       "      <td>$4055.620</td>\n",
       "      <td>$32.000</td>\n",
       "    </tr>\n",
       "  </tbody>\n",
       "</table>\n",
       "</div>"
      ],
      "text/plain": [
       "                 s006        XTOT\n",
       "nu18                             \n",
       "$0.000 $126133140.040 $231598.000\n",
       "$1.000  $29116910.620 $107256.000\n",
       "$2.000  $17372053.900 $122138.000\n",
       "$3.000   $6989282.220  $69597.000\n",
       "$4.000    $152799.210   $1040.000\n",
       "$5.000     $19957.650     $92.000\n",
       "$6.000      $4055.620     $32.000"
      ]
     },
     "execution_count": 154,
     "metadata": {},
     "output_type": "execute_result"
    }
   ],
   "source": [
    "df = tc_base.dataframe(['nu18', 'XTOT', 'iitax', 'c00100', 's006', 'aftertax_income', 'expanded_income'])\n",
    "df['ARPA_iitax'] = tc_arpa.array('iitax')\n",
    "df['tax_change'] = df['ARPA_iitax'] - df['iitax']\n",
    "df['aftertax_income_ARPA'] = tc_arpa.array('aftertax_income')\n",
    "df.groupby('nu18')[['s006', 'XTOT']].sum()"
   ]
  },
  {
   "cell_type": "code",
   "execution_count": 19,
   "id": "focused-nicaragua",
   "metadata": {},
   "outputs": [
    {
     "data": {
      "text/plain": [
       "0.47591657429229645"
      ]
     },
     "execution_count": 19,
     "metadata": {},
     "output_type": "execute_result"
    }
   ],
   "source": [
    "mdf.weighted_mean(df, 'nu18', 's006')"
   ]
  },
  {
   "cell_type": "code",
   "execution_count": 155,
   "id": "australian-protein",
   "metadata": {},
   "outputs": [],
   "source": [
    "decile_bounds = np.arange(0, 1.1, 0.1)\n",
    "deciles = mdf.weighted_quantile(df, 'c00100', 's006', decile_bounds)\n",
    "quintile_bounds = np.arange(0, 1.2, 0.2)\n",
    "quintiles = mdf.weighted_quantile(df, 'c00100', 's006', quintile_bounds)"
   ]
  },
  {
   "cell_type": "code",
   "execution_count": 129,
   "id": "subject-virgin",
   "metadata": {},
   "outputs": [
    {
     "data": {
      "text/plain": [
       "<AxesSubplot:xlabel='nu18'>"
      ]
     },
     "execution_count": 129,
     "metadata": {},
     "output_type": "execute_result"
    },
    {
     "data": {
      "image/png": "[encoded data removed]",
      "text/plain": [
       "<Figure size 432x288 with 1 Axes>"
      ]
     },
     "metadata": {
      "needs_background": "light"
     },
     "output_type": "display_data"
    }
   ],
   "source": [
    "df_group = mdf.weighted_mean(df, 'tax_change', w='s006', groupby=['nu18'])\n",
    "df_group.plot.bar()"
   ]
  },
  {
   "cell_type": "code",
   "execution_count": 156,
   "id": "empty-parameter",
   "metadata": {},
   "outputs": [
    {
     "data": {
      "image/png": "[encoded data removed]",
      "text/plain": [
       "<Figure size 432x288 with 1 Axes>"
      ]
     },
     "metadata": {
      "needs_background": "light"
     },
     "output_type": "display_data"
    }
   ],
   "source": [
    "from cycler import cycler\n",
    "from cycler import cycler\n",
    "N = 7\n",
    "plt.rcParams[\"axes.prop_cycle\"] = plt.cycler(\"color\", plt.cm.Blues(np.linspace(0.2,1,N)))\n",
    "\n",
    "\n",
    "df['quintiles'] = pd.cut(df['expanded_income'], bins=quintiles, labels=np.arange(1,6).tolist())\n",
    "df_group = pd.DataFrame(mdf.weighted_mean(df, 'tax_change', w='s006', groupby=['nu18', 'quintiles']))\n",
    "# df_group.plot.bar()\n",
    "df_group.reset_index(inplace=True)\n",
    "df_group.rename(columns={0: 'Average Change in Taxes', 'nu18': 'Number of Children', 'quintiles': 'Income Quintiles'}, inplace=True)\n",
    "df_group['Number of Children'] = df_group['Number of Children'].astype('int64')\n",
    "ax1 = df_group.pivot(\"Income Quintiles\", \"Number of Children\", \"Average Change in Taxes\").plot(kind='bar', alpha=1.0)\n",
    "plt.ylabel('Mean Tax Change')\n",
    "plt.xticks(rotation = 0)\n",
    "plt.legend(title='Number of Children', loc=9, bbox_to_anchor=(0.5, -0.15), ncol=3)\n",
    "plt.savefig('bar_plot_by_kids.png', bbox_inches='tight')"
   ]
  },
  {
   "cell_type": "code",
   "execution_count": 157,
   "id": "large-apache",
   "metadata": {},
   "outputs": [
    {
     "ename": "ValueError",
     "evalue": "Bin edges must be unique: array([0.00000000e+00, 0.00000000e+00, 5.54812765e-01, 7.10849110e+02,\n       1.57941839e+03, 2.36853236e+03, 3.08930643e+03, 3.88052734e+03,\n       4.75677545e+03, 5.67474966e+03, 6.54753884e+03, 7.45310584e+03,\n       8.34522009e+03, 9.22146820e+03, 1.00845136e+04, 1.09044209e+04,\n       1.16833081e+04, 1.24398594e+04, 1.31291799e+04, 1.39104761e+04,\n       1.45977942e+04, 1.52995702e+04, 1.59941050e+04, 1.66936936e+04,\n       1.73858752e+04, 1.80583066e+04, 1.87711817e+04, 1.94721802e+04,\n       2.02199652e+04, 2.10830751e+04, 2.18447449e+04, 2.27451615e+04,\n       2.36447903e+04, 2.45590689e+04, 2.55920083e+04, 2.65656173e+04,\n       2.75733159e+04, 2.86119312e+04, 2.95607840e+04, 3.04600533e+04,\n       3.14336623e+04, 3.23100521e+04, 3.32557021e+04, 3.42807733e+04,\n       3.53282205e+04, 3.64424298e+04, 3.76016335e+04, 3.88228328e+04,\n       4.00751424e+04, 4.13811647e+04, 4.26997095e+04, 4.39975947e+04,\n       4.52304589e+04, 4.64967846e+04, 4.77774051e+04, 4.90977115e+04,\n       5.05122298e+04, 5.19526396e+04, 5.34940825e+04, 5.50079532e+04,\n       5.67272438e+04, 5.84165406e+04, 6.00116423e+04, 6.16155417e+04,\n       6.33498582e+04, 6.50973923e+04, 6.70406814e+04, 6.91474069e+04,\n       7.13718017e+04, 7.35770238e+04, 7.60405207e+04, 7.83327236e+04,\n       8.08200645e+04, 8.34527626e+04, 8.61811709e+04, 8.91019260e+04,\n       9.22418800e+04, 9.57147823e+04, 9.93873778e+04, 1.03312475e+05,\n       1.07428181e+05, 1.11653718e+05, 1.16106069e+05, 1.20588430e+05,\n       1.25479685e+05, 1.30772000e+05, 1.36898318e+05, 1.43337655e+05,\n       1.50224566e+05, 1.57975105e+05, 1.66030740e+05, 1.75527659e+05,\n       1.86731689e+05, 2.00592048e+05, 2.17694118e+05, 2.39223204e+05,\n       2.69762774e+05, 3.15963941e+05, 3.95362199e+05, 6.02881474e+05,\n       2.08490633e+08]).\nYou can drop duplicate edges by setting the 'duplicates' kwarg",
     "output_type": "error",
     "traceback": [
      "\u001b[0;31m---------------------------------------------------------------------------\u001b[0m",
      "\u001b[0;31mValueError\u001b[0m                                Traceback (most recent call last)",
      "\u001b[0;32m<ipython-input-157-1bf9d26b9cb4>\u001b[0m in \u001b[0;36m<module>\u001b[0;34m\u001b[0m\n\u001b[1;32m      2\u001b[0m \u001b[0mpercentile_bounds\u001b[0m \u001b[0;34m=\u001b[0m \u001b[0mnp\u001b[0m\u001b[0;34m.\u001b[0m\u001b[0marange\u001b[0m\u001b[0;34m(\u001b[0m\u001b[0;36m0\u001b[0m\u001b[0;34m,\u001b[0m \u001b[0;36m1.01\u001b[0m\u001b[0;34m,\u001b[0m \u001b[0;36m0.01\u001b[0m\u001b[0;34m)\u001b[0m\u001b[0;34m\u001b[0m\u001b[0;34m\u001b[0m\u001b[0m\n\u001b[1;32m      3\u001b[0m \u001b[0mpercentiles\u001b[0m \u001b[0;34m=\u001b[0m \u001b[0mmdf\u001b[0m\u001b[0;34m.\u001b[0m\u001b[0mweighted_quantile\u001b[0m\u001b[0;34m(\u001b[0m\u001b[0mdf\u001b[0m\u001b[0;34m,\u001b[0m \u001b[0;34m'expanded_income'\u001b[0m\u001b[0;34m,\u001b[0m \u001b[0;34m's006'\u001b[0m\u001b[0;34m,\u001b[0m \u001b[0mpercentile_bounds\u001b[0m\u001b[0;34m)\u001b[0m\u001b[0;34m\u001b[0m\u001b[0;34m\u001b[0m\u001b[0m\n\u001b[0;32m----> 4\u001b[0;31m \u001b[0mdf\u001b[0m\u001b[0;34m[\u001b[0m\u001b[0;34m'Percentile'\u001b[0m\u001b[0;34m]\u001b[0m \u001b[0;34m=\u001b[0m \u001b[0mpd\u001b[0m\u001b[0;34m.\u001b[0m\u001b[0mcut\u001b[0m\u001b[0;34m(\u001b[0m\u001b[0mdf\u001b[0m\u001b[0;34m[\u001b[0m\u001b[0;34m'expanded_income'\u001b[0m\u001b[0;34m]\u001b[0m\u001b[0;34m,\u001b[0m \u001b[0mbins\u001b[0m\u001b[0;34m=\u001b[0m\u001b[0mpercentiles\u001b[0m\u001b[0;34m,\u001b[0m \u001b[0mlabels\u001b[0m\u001b[0;34m=\u001b[0m\u001b[0mnp\u001b[0m\u001b[0;34m.\u001b[0m\u001b[0marange\u001b[0m\u001b[0;34m(\u001b[0m\u001b[0;36m1\u001b[0m\u001b[0;34m,\u001b[0m\u001b[0;36m101\u001b[0m\u001b[0;34m)\u001b[0m\u001b[0;34m.\u001b[0m\u001b[0mtolist\u001b[0m\u001b[0;34m(\u001b[0m\u001b[0;34m)\u001b[0m\u001b[0;34m)\u001b[0m\u001b[0;34m\u001b[0m\u001b[0;34m\u001b[0m\u001b[0m\n\u001b[0m\u001b[1;32m      5\u001b[0m df_group = pd.DataFrame(mdf.weighted_mean(\n\u001b[1;32m      6\u001b[0m     df, ['aftertax_income', 'aftertax_income_ARPA'], w='s006', groupby='Percentile'))\n",
      "\u001b[0;32m~/anaconda3/envs/taxcalc-dev/lib/python3.8/site-packages/pandas/core/reshape/tile.py\u001b[0m in \u001b[0;36mcut\u001b[0;34m(x, bins, right, labels, retbins, precision, include_lowest, duplicates, ordered)\u001b[0m\n\u001b[1;32m    271\u001b[0m             \u001b[0;32mraise\u001b[0m \u001b[0mValueError\u001b[0m\u001b[0;34m(\u001b[0m\u001b[0;34m\"bins must increase monotonically.\"\u001b[0m\u001b[0;34m)\u001b[0m\u001b[0;34m\u001b[0m\u001b[0;34m\u001b[0m\u001b[0m\n\u001b[1;32m    272\u001b[0m \u001b[0;34m\u001b[0m\u001b[0m\n\u001b[0;32m--> 273\u001b[0;31m     fac, bins = _bins_to_cuts(\n\u001b[0m\u001b[1;32m    274\u001b[0m         \u001b[0mx\u001b[0m\u001b[0;34m,\u001b[0m\u001b[0;34m\u001b[0m\u001b[0;34m\u001b[0m\u001b[0m\n\u001b[1;32m    275\u001b[0m         \u001b[0mbins\u001b[0m\u001b[0;34m,\u001b[0m\u001b[0;34m\u001b[0m\u001b[0;34m\u001b[0m\u001b[0m\n",
      "\u001b[0;32m~/anaconda3/envs/taxcalc-dev/lib/python3.8/site-packages/pandas/core/reshape/tile.py\u001b[0m in \u001b[0;36m_bins_to_cuts\u001b[0;34m(x, bins, right, labels, precision, include_lowest, dtype, duplicates, ordered)\u001b[0m\n\u001b[1;32m    397\u001b[0m     \u001b[0;32mif\u001b[0m \u001b[0mlen\u001b[0m\u001b[0;34m(\u001b[0m\u001b[0munique_bins\u001b[0m\u001b[0;34m)\u001b[0m \u001b[0;34m<\u001b[0m \u001b[0mlen\u001b[0m\u001b[0;34m(\u001b[0m\u001b[0mbins\u001b[0m\u001b[0;34m)\u001b[0m \u001b[0;32mand\u001b[0m \u001b[0mlen\u001b[0m\u001b[0;34m(\u001b[0m\u001b[0mbins\u001b[0m\u001b[0;34m)\u001b[0m \u001b[0;34m!=\u001b[0m \u001b[0;36m2\u001b[0m\u001b[0;34m:\u001b[0m\u001b[0;34m\u001b[0m\u001b[0;34m\u001b[0m\u001b[0m\n\u001b[1;32m    398\u001b[0m         \u001b[0;32mif\u001b[0m \u001b[0mduplicates\u001b[0m \u001b[0;34m==\u001b[0m \u001b[0;34m\"raise\"\u001b[0m\u001b[0;34m:\u001b[0m\u001b[0;34m\u001b[0m\u001b[0;34m\u001b[0m\u001b[0m\n\u001b[0;32m--> 399\u001b[0;31m             raise ValueError(\n\u001b[0m\u001b[1;32m    400\u001b[0m                 \u001b[0;34mf\"Bin edges must be unique: {repr(bins)}.\\n\"\u001b[0m\u001b[0;34m\u001b[0m\u001b[0;34m\u001b[0m\u001b[0m\n\u001b[1;32m    401\u001b[0m                 \u001b[0;34mf\"You can drop duplicate edges by setting the 'duplicates' kwarg\"\u001b[0m\u001b[0;34m\u001b[0m\u001b[0;34m\u001b[0m\u001b[0m\n",
      "\u001b[0;31mValueError\u001b[0m: Bin edges must be unique: array([0.00000000e+00, 0.00000000e+00, 5.54812765e-01, 7.10849110e+02,\n       1.57941839e+03, 2.36853236e+03, 3.08930643e+03, 3.88052734e+03,\n       4.75677545e+03, 5.67474966e+03, 6.54753884e+03, 7.45310584e+03,\n       8.34522009e+03, 9.22146820e+03, 1.00845136e+04, 1.09044209e+04,\n       1.16833081e+04, 1.24398594e+04, 1.31291799e+04, 1.39104761e+04,\n       1.45977942e+04, 1.52995702e+04, 1.59941050e+04, 1.66936936e+04,\n       1.73858752e+04, 1.80583066e+04, 1.87711817e+04, 1.94721802e+04,\n       2.02199652e+04, 2.10830751e+04, 2.18447449e+04, 2.27451615e+04,\n       2.36447903e+04, 2.45590689e+04, 2.55920083e+04, 2.65656173e+04,\n       2.75733159e+04, 2.86119312e+04, 2.95607840e+04, 3.04600533e+04,\n       3.14336623e+04, 3.23100521e+04, 3.32557021e+04, 3.42807733e+04,\n       3.53282205e+04, 3.64424298e+04, 3.76016335e+04, 3.88228328e+04,\n       4.00751424e+04, 4.13811647e+04, 4.26997095e+04, 4.39975947e+04,\n       4.52304589e+04, 4.64967846e+04, 4.77774051e+04, 4.90977115e+04,\n       5.05122298e+04, 5.19526396e+04, 5.34940825e+04, 5.50079532e+04,\n       5.67272438e+04, 5.84165406e+04, 6.00116423e+04, 6.16155417e+04,\n       6.33498582e+04, 6.50973923e+04, 6.70406814e+04, 6.91474069e+04,\n       7.13718017e+04, 7.35770238e+04, 7.60405207e+04, 7.83327236e+04,\n       8.08200645e+04, 8.34527626e+04, 8.61811709e+04, 8.91019260e+04,\n       9.22418800e+04, 9.57147823e+04, 9.93873778e+04, 1.03312475e+05,\n       1.07428181e+05, 1.11653718e+05, 1.16106069e+05, 1.20588430e+05,\n       1.25479685e+05, 1.30772000e+05, 1.36898318e+05, 1.43337655e+05,\n       1.50224566e+05, 1.57975105e+05, 1.66030740e+05, 1.75527659e+05,\n       1.86731689e+05, 2.00592048e+05, 2.17694118e+05, 2.39223204e+05,\n       2.69762774e+05, 3.15963941e+05, 3.95362199e+05, 6.02881474e+05,\n       2.08490633e+08]).\nYou can drop duplicate edges by setting the 'duplicates' kwarg"
     ]
    }
   ],
   "source": [
    "df.drop(df[df['expanded_income'] < 0].index, inplace=True)\n",
    "percentile_bounds = np.arange(0, 1.01, 0.01)\n",
    "percentiles = mdf.weighted_quantile(df, 'expanded_income', 's006', percentile_bounds)\n",
    "df['Percentile'] = pd.cut(df['expanded_income'], bins=percentiles, labels=np.arange(1,101).tolist())\n",
    "df_group = pd.DataFrame(mdf.weighted_mean(\n",
    "    df, ['aftertax_income', 'aftertax_income_ARPA'], w='s006', groupby='Percentile'))\n",
    "df_group.reset_index(inplace=True)\n",
    "df_group.plot(kind='line', alpha=1.0)\n",
    "plt.ylim([0, 50000])\n",
    "# plt.ylabel('Mean Tax Change')\n",
    "# plt.xticks(rotation = 0)\n",
    "# plt.legend(title='Number of Children', loc=9, bbox_to_anchor=(0.5, -0.15), ncol=3)\n",
    "# plt.savefig('bar_plot_by_kids.png', bbox_inches='tight')\n"
   ]
  },
  {
   "cell_type": "code",
   "execution_count": 133,
   "id": "electrical-offering",
   "metadata": {},
   "outputs": [
    {
     "data": {
      "text/html": [
       "<div>\n",
       "<style scoped>\n",
       "    .dataframe tbody tr th:only-of-type {\n",
       "        vertical-align: middle;\n",
       "    }\n",
       "\n",
       "    .dataframe tbody tr th {\n",
       "        vertical-align: top;\n",
       "    }\n",
       "\n",
       "    .dataframe thead th {\n",
       "        text-align: right;\n",
       "    }\n",
       "</style>\n",
       "<table border=\"1\" class=\"dataframe\">\n",
       "  <thead>\n",
       "    <tr style=\"text-align: right;\">\n",
       "      <th></th>\n",
       "      <th>Percentile</th>\n",
       "      <th>aftertax_income</th>\n",
       "      <th>aftertax_income_ARPA</th>\n",
       "    </tr>\n",
       "  </thead>\n",
       "  <tbody>\n",
       "    <tr>\n",
       "      <th>0</th>\n",
       "      <td>1</td>\n",
       "      <td>$16675.456</td>\n",
       "      <td>$18568.140</td>\n",
       "    </tr>\n",
       "    <tr>\n",
       "      <th>1</th>\n",
       "      <td>2</td>\n",
       "      <td>$16651.573</td>\n",
       "      <td>$18605.248</td>\n",
       "    </tr>\n",
       "    <tr>\n",
       "      <th>2</th>\n",
       "      <td>3</td>\n",
       "      <td>$13800.291</td>\n",
       "      <td>$15632.689</td>\n",
       "    </tr>\n",
       "    <tr>\n",
       "      <th>3</th>\n",
       "      <td>4</td>\n",
       "      <td>$8462.217</td>\n",
       "      <td>$9978.725</td>\n",
       "    </tr>\n",
       "    <tr>\n",
       "      <th>4</th>\n",
       "      <td>5</td>\n",
       "      <td>$7611.290</td>\n",
       "      <td>$9013.579</td>\n",
       "    </tr>\n",
       "    <tr>\n",
       "      <th>...</th>\n",
       "      <td>...</td>\n",
       "      <td>...</td>\n",
       "      <td>...</td>\n",
       "    </tr>\n",
       "    <tr>\n",
       "      <th>95</th>\n",
       "      <td>96</td>\n",
       "      <td>$202561.971</td>\n",
       "      <td>$202591.592</td>\n",
       "    </tr>\n",
       "    <tr>\n",
       "      <th>96</th>\n",
       "      <td>97</td>\n",
       "      <td>$232431.775</td>\n",
       "      <td>$232451.757</td>\n",
       "    </tr>\n",
       "    <tr>\n",
       "      <th>97</th>\n",
       "      <td>98</td>\n",
       "      <td>$271500.421</td>\n",
       "      <td>$271518.114</td>\n",
       "    </tr>\n",
       "    <tr>\n",
       "      <th>98</th>\n",
       "      <td>99</td>\n",
       "      <td>$358867.145</td>\n",
       "      <td>$358860.510</td>\n",
       "    </tr>\n",
       "    <tr>\n",
       "      <th>99</th>\n",
       "      <td>100</td>\n",
       "      <td>$1154762.608</td>\n",
       "      <td>$1154735.266</td>\n",
       "    </tr>\n",
       "  </tbody>\n",
       "</table>\n",
       "<p>100 rows × 3 columns</p>\n",
       "</div>"
      ],
      "text/plain": [
       "   Percentile  aftertax_income  aftertax_income_ARPA\n",
       "0           1       $16675.456            $18568.140\n",
       "1           2       $16651.573            $18605.248\n",
       "2           3       $13800.291            $15632.689\n",
       "3           4        $8462.217             $9978.725\n",
       "4           5        $7611.290             $9013.579\n",
       "..        ...              ...                   ...\n",
       "95         96      $202561.971           $202591.592\n",
       "96         97      $232431.775           $232451.757\n",
       "97         98      $271500.421           $271518.114\n",
       "98         99      $358867.145           $358860.510\n",
       "99        100     $1154762.608          $1154735.266\n",
       "\n",
       "[100 rows x 3 columns]"
      ]
     },
     "execution_count": 133,
     "metadata": {},
     "output_type": "execute_result"
    }
   ],
   "source": [
    "df_group"
   ]
  },
  {
   "cell_type": "code",
   "execution_count": 140,
   "id": "square-following",
   "metadata": {},
   "outputs": [],
   "source": [
    "decile_bounds = np.arange(0, 1.1, 0.1)"
   ]
  },
  {
   "cell_type": "code",
   "execution_count": 141,
   "id": "german-squad",
   "metadata": {},
   "outputs": [],
   "source": []
  },
  {
   "cell_type": "code",
   "execution_count": 158,
   "id": "connected-cassette",
   "metadata": {},
   "outputs": [
    {
     "ename": "KeyError",
     "evalue": "'cexpanded_income'",
     "output_type": "error",
     "traceback": [
      "\u001b[0;31m---------------------------------------------------------------------------\u001b[0m",
      "\u001b[0;31mKeyError\u001b[0m                                  Traceback (most recent call last)",
      "\u001b[0;32m~/anaconda3/envs/taxcalc-dev/lib/python3.8/site-packages/pandas/core/indexes/base.py\u001b[0m in \u001b[0;36mget_loc\u001b[0;34m(self, key, method, tolerance)\u001b[0m\n\u001b[1;32m   3079\u001b[0m             \u001b[0;32mtry\u001b[0m\u001b[0;34m:\u001b[0m\u001b[0;34m\u001b[0m\u001b[0;34m\u001b[0m\u001b[0m\n\u001b[0;32m-> 3080\u001b[0;31m                 \u001b[0;32mreturn\u001b[0m \u001b[0mself\u001b[0m\u001b[0;34m.\u001b[0m\u001b[0m_engine\u001b[0m\u001b[0;34m.\u001b[0m\u001b[0mget_loc\u001b[0m\u001b[0;34m(\u001b[0m\u001b[0mcasted_key\u001b[0m\u001b[0;34m)\u001b[0m\u001b[0;34m\u001b[0m\u001b[0;34m\u001b[0m\u001b[0m\n\u001b[0m\u001b[1;32m   3081\u001b[0m             \u001b[0;32mexcept\u001b[0m \u001b[0mKeyError\u001b[0m \u001b[0;32mas\u001b[0m \u001b[0merr\u001b[0m\u001b[0;34m:\u001b[0m\u001b[0;34m\u001b[0m\u001b[0;34m\u001b[0m\u001b[0m\n",
      "\u001b[0;32mpandas/_libs/index.pyx\u001b[0m in \u001b[0;36mpandas._libs.index.IndexEngine.get_loc\u001b[0;34m()\u001b[0m\n",
      "\u001b[0;32mpandas/_libs/index.pyx\u001b[0m in \u001b[0;36mpandas._libs.index.IndexEngine.get_loc\u001b[0;34m()\u001b[0m\n",
      "\u001b[0;32mpandas/_libs/hashtable_class_helper.pxi\u001b[0m in \u001b[0;36mpandas._libs.hashtable.PyObjectHashTable.get_item\u001b[0;34m()\u001b[0m\n",
      "\u001b[0;32mpandas/_libs/hashtable_class_helper.pxi\u001b[0m in \u001b[0;36mpandas._libs.hashtable.PyObjectHashTable.get_item\u001b[0;34m()\u001b[0m\n",
      "\u001b[0;31mKeyError\u001b[0m: 'cexpanded_income'",
      "\nThe above exception was the direct cause of the following exception:\n",
      "\u001b[0;31mKeyError\u001b[0m                                  Traceback (most recent call last)",
      "\u001b[0;32m<ipython-input-158-cd819a5e0d5b>\u001b[0m in \u001b[0;36m<module>\u001b[0;34m\u001b[0m\n\u001b[1;32m      1\u001b[0m \u001b[0mpct_bounds\u001b[0m \u001b[0;34m=\u001b[0m \u001b[0mnp\u001b[0m\u001b[0;34m.\u001b[0m\u001b[0marray\u001b[0m\u001b[0;34m(\u001b[0m\u001b[0;34m[\u001b[0m\u001b[0;36m0\u001b[0m\u001b[0;34m,\u001b[0m \u001b[0;36m0.2\u001b[0m\u001b[0;34m,\u001b[0m \u001b[0;36m0.4\u001b[0m\u001b[0;34m,\u001b[0m \u001b[0;36m0.6\u001b[0m\u001b[0;34m,\u001b[0m \u001b[0;36m0.8\u001b[0m\u001b[0;34m,\u001b[0m \u001b[0;36m0.9\u001b[0m\u001b[0;34m,\u001b[0m \u001b[0;36m0.99\u001b[0m\u001b[0;34m,\u001b[0m \u001b[0;36m1.0\u001b[0m\u001b[0;34m]\u001b[0m\u001b[0;34m)\u001b[0m\u001b[0;34m\u001b[0m\u001b[0;34m\u001b[0m\u001b[0m\n\u001b[0;32m----> 2\u001b[0;31m \u001b[0mpercentiles\u001b[0m \u001b[0;34m=\u001b[0m \u001b[0mmdf\u001b[0m\u001b[0;34m.\u001b[0m\u001b[0mweighted_quantile\u001b[0m\u001b[0;34m(\u001b[0m\u001b[0mdf\u001b[0m\u001b[0;34m,\u001b[0m \u001b[0;34m'cexpanded_income'\u001b[0m\u001b[0;34m,\u001b[0m \u001b[0;34m's006'\u001b[0m\u001b[0;34m,\u001b[0m \u001b[0mpct_bounds\u001b[0m\u001b[0;34m)\u001b[0m\u001b[0;34m\u001b[0m\u001b[0;34m\u001b[0m\u001b[0m\n\u001b[0m\u001b[1;32m      3\u001b[0m \u001b[0mdf\u001b[0m\u001b[0;34m[\u001b[0m\u001b[0;34m'Percentile'\u001b[0m\u001b[0;34m]\u001b[0m \u001b[0;34m=\u001b[0m \u001b[0mpd\u001b[0m\u001b[0;34m.\u001b[0m\u001b[0mcut\u001b[0m\u001b[0;34m(\u001b[0m\u001b[0mdf\u001b[0m\u001b[0;34m[\u001b[0m\u001b[0;34m'expanded_income'\u001b[0m\u001b[0;34m]\u001b[0m\u001b[0;34m,\u001b[0m \u001b[0mbins\u001b[0m\u001b[0;34m=\u001b[0m\u001b[0mpercentiles\u001b[0m\u001b[0;34m)\u001b[0m\u001b[0;34m\u001b[0m\u001b[0;34m\u001b[0m\u001b[0m\n\u001b[1;32m      4\u001b[0m df_group = pd.DataFrame(mdf.weighted_mean(\n\u001b[1;32m      5\u001b[0m     df, ['aftertax_income', 'aftertax_income_ARPA'], w='s006', groupby='Percentile'))\n",
      "\u001b[0;32m~/repos/microdf/microdf/weighted.py\u001b[0m in \u001b[0;36mweighted_quantile\u001b[0;34m(df, col, w, quantiles)\u001b[0m\n\u001b[1;32m     91\u001b[0m     \u001b[0;34m:\u001b[0m\u001b[0mrtype\u001b[0m\u001b[0;34m:\u001b[0m \u001b[0mnp\u001b[0m\u001b[0;34m.\u001b[0m\u001b[0marray\u001b[0m\u001b[0;34m\u001b[0m\u001b[0;34m\u001b[0m\u001b[0m\n\u001b[1;32m     92\u001b[0m     \"\"\"\n\u001b[0;32m---> 93\u001b[0;31m     \u001b[0mvalues\u001b[0m \u001b[0;34m=\u001b[0m \u001b[0mnp\u001b[0m\u001b[0;34m.\u001b[0m\u001b[0marray\u001b[0m\u001b[0;34m(\u001b[0m\u001b[0mdf\u001b[0m\u001b[0;34m[\u001b[0m\u001b[0mcol\u001b[0m\u001b[0;34m]\u001b[0m\u001b[0;34m)\u001b[0m\u001b[0;34m\u001b[0m\u001b[0;34m\u001b[0m\u001b[0m\n\u001b[0m\u001b[1;32m     94\u001b[0m     \u001b[0mquantiles\u001b[0m \u001b[0;34m=\u001b[0m \u001b[0mnp\u001b[0m\u001b[0;34m.\u001b[0m\u001b[0marray\u001b[0m\u001b[0;34m(\u001b[0m\u001b[0mquantiles\u001b[0m\u001b[0;34m)\u001b[0m\u001b[0;34m\u001b[0m\u001b[0;34m\u001b[0m\u001b[0m\n\u001b[1;32m     95\u001b[0m     \u001b[0;32mif\u001b[0m \u001b[0mw\u001b[0m \u001b[0;32mis\u001b[0m \u001b[0;32mNone\u001b[0m\u001b[0;34m:\u001b[0m\u001b[0;34m\u001b[0m\u001b[0;34m\u001b[0m\u001b[0m\n",
      "\u001b[0;32m~/anaconda3/envs/taxcalc-dev/lib/python3.8/site-packages/pandas/core/frame.py\u001b[0m in \u001b[0;36m__getitem__\u001b[0;34m(self, key)\u001b[0m\n\u001b[1;32m   3022\u001b[0m             \u001b[0;32mif\u001b[0m \u001b[0mself\u001b[0m\u001b[0;34m.\u001b[0m\u001b[0mcolumns\u001b[0m\u001b[0;34m.\u001b[0m\u001b[0mnlevels\u001b[0m \u001b[0;34m>\u001b[0m \u001b[0;36m1\u001b[0m\u001b[0;34m:\u001b[0m\u001b[0;34m\u001b[0m\u001b[0;34m\u001b[0m\u001b[0m\n\u001b[1;32m   3023\u001b[0m                 \u001b[0;32mreturn\u001b[0m \u001b[0mself\u001b[0m\u001b[0;34m.\u001b[0m\u001b[0m_getitem_multilevel\u001b[0m\u001b[0;34m(\u001b[0m\u001b[0mkey\u001b[0m\u001b[0;34m)\u001b[0m\u001b[0;34m\u001b[0m\u001b[0;34m\u001b[0m\u001b[0m\n\u001b[0;32m-> 3024\u001b[0;31m             \u001b[0mindexer\u001b[0m \u001b[0;34m=\u001b[0m \u001b[0mself\u001b[0m\u001b[0;34m.\u001b[0m\u001b[0mcolumns\u001b[0m\u001b[0;34m.\u001b[0m\u001b[0mget_loc\u001b[0m\u001b[0;34m(\u001b[0m\u001b[0mkey\u001b[0m\u001b[0;34m)\u001b[0m\u001b[0;34m\u001b[0m\u001b[0;34m\u001b[0m\u001b[0m\n\u001b[0m\u001b[1;32m   3025\u001b[0m             \u001b[0;32mif\u001b[0m \u001b[0mis_integer\u001b[0m\u001b[0;34m(\u001b[0m\u001b[0mindexer\u001b[0m\u001b[0;34m)\u001b[0m\u001b[0;34m:\u001b[0m\u001b[0;34m\u001b[0m\u001b[0;34m\u001b[0m\u001b[0m\n\u001b[1;32m   3026\u001b[0m                 \u001b[0mindexer\u001b[0m \u001b[0;34m=\u001b[0m \u001b[0;34m[\u001b[0m\u001b[0mindexer\u001b[0m\u001b[0;34m]\u001b[0m\u001b[0;34m\u001b[0m\u001b[0;34m\u001b[0m\u001b[0m\n",
      "\u001b[0;32m~/anaconda3/envs/taxcalc-dev/lib/python3.8/site-packages/pandas/core/indexes/base.py\u001b[0m in \u001b[0;36mget_loc\u001b[0;34m(self, key, method, tolerance)\u001b[0m\n\u001b[1;32m   3080\u001b[0m                 \u001b[0;32mreturn\u001b[0m \u001b[0mself\u001b[0m\u001b[0;34m.\u001b[0m\u001b[0m_engine\u001b[0m\u001b[0;34m.\u001b[0m\u001b[0mget_loc\u001b[0m\u001b[0;34m(\u001b[0m\u001b[0mcasted_key\u001b[0m\u001b[0;34m)\u001b[0m\u001b[0;34m\u001b[0m\u001b[0;34m\u001b[0m\u001b[0m\n\u001b[1;32m   3081\u001b[0m             \u001b[0;32mexcept\u001b[0m \u001b[0mKeyError\u001b[0m \u001b[0;32mas\u001b[0m \u001b[0merr\u001b[0m\u001b[0;34m:\u001b[0m\u001b[0;34m\u001b[0m\u001b[0;34m\u001b[0m\u001b[0m\n\u001b[0;32m-> 3082\u001b[0;31m                 \u001b[0;32mraise\u001b[0m \u001b[0mKeyError\u001b[0m\u001b[0;34m(\u001b[0m\u001b[0mkey\u001b[0m\u001b[0;34m)\u001b[0m \u001b[0;32mfrom\u001b[0m \u001b[0merr\u001b[0m\u001b[0;34m\u001b[0m\u001b[0;34m\u001b[0m\u001b[0m\n\u001b[0m\u001b[1;32m   3083\u001b[0m \u001b[0;34m\u001b[0m\u001b[0m\n\u001b[1;32m   3084\u001b[0m         \u001b[0;32mif\u001b[0m \u001b[0mtolerance\u001b[0m \u001b[0;32mis\u001b[0m \u001b[0;32mnot\u001b[0m \u001b[0;32mNone\u001b[0m\u001b[0;34m:\u001b[0m\u001b[0;34m\u001b[0m\u001b[0;34m\u001b[0m\u001b[0m\n",
      "\u001b[0;31mKeyError\u001b[0m: 'cexpanded_income'"
     ]
    }
   ],
   "source": [
    "pct_bounds = np.array([0, 0.2, 0.4, 0.6, 0.8, 0.9, 0.99, 1.0])\n",
    "percentiles = mdf.weighted_quantile(df, 'cexpanded_income', 's006', pct_bounds)\n",
    "df['Percentile'] = pd.cut(df['expanded_income'], bins=percentiles)\n",
    "df_group = pd.DataFrame(mdf.weighted_mean(\n",
    "    df, ['aftertax_income', 'aftertax_income_ARPA'], w='s006', groupby='Percentile'))\n",
    "df_group.reset_index(inplace=True)\n",
    "df_group.plot(kind='line', alpha=1.0)\n",
    "# plt.ylim([0, 50000])"
   ]
  },
  {
   "cell_type": "code",
   "execution_count": null,
   "id": "abroad-funeral",
   "metadata": {},
   "outputs": [],
   "source": []
  }
 ],
 "metadata": {
  "kernelspec": {
   "display_name": "Python 3",
   "language": "python",
   "name": "python3"
  },
  "language_info": {
   "codemirror_mode": {
    "name": "ipython",
    "version": 3
   },
   "file_extension": ".py",
   "mimetype": "text/x-python",
   "name": "python",
   "nbconvert_exporter": "python",
   "pygments_lexer": "ipython3",
   "version": "3.11.8"
  }
 },
 "nbformat": 4,
 "nbformat_minor": 5
}
